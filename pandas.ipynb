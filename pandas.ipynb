{
  "nbformat": 4,
  "nbformat_minor": 0,
  "metadata": {
    "celltoolbar": "Edit Metadata",
    "kernelspec": {
      "display_name": "Python 3",
      "language": "python",
      "name": "python3"
    },
    "language_info": {
      "codemirror_mode": {
        "name": "ipython",
        "version": 3
      },
      "file_extension": ".py",
      "mimetype": "text/x-python",
      "name": "python",
      "nbconvert_exporter": "python",
      "pygments_lexer": "ipython3",
      "version": "3.7.6"
    },
    "toc-autonumbering": false,
    "toc-showcode": false,
    "toc-showmarkdowntxt": false,
    "toc-showtags": false,
    "colab": {
      "name": "pandas.ipynb",
      "provenance": [],
      "include_colab_link": true
    }
  },
  "cells": [
    {
      "cell_type": "markdown",
      "metadata": {
        "id": "view-in-github",
        "colab_type": "text"
      },
      "source": [
        "<a href=\"https://colab.research.google.com/github/AsutoshSatapathy/NumericalPython/blob/main/pandas.ipynb\" target=\"_parent\"><img src=\"https://colab.research.google.com/assets/colab-badge.svg\" alt=\"Open In Colab\"/></a>"
      ]
    },
    {
      "cell_type": "markdown",
      "metadata": {
        "id": "D_-fqBj_VMzr"
      },
      "source": [
        "# Dataframes with Pandas\n",
        "\n",
        "For reference, here is a useful [pandas cheat sheet](https://drive.google.com/folderview?id=0ByIrJAE4KMTtaGhRcXkxNHhmY2M&usp=sharing).\n",
        "\n",
        "Often data is stored in comma separated values (CSV) files. CSV files can be output by any spreadsheet software, and are plain text, hence are a great way to share data.\n",
        "\n",
        "![](https://github.com/AsutoshSatapathy/NumericalPython/blob/main/images/csv.png?raw=1)\n",
        "\n",
        "Here we are reading in a spreadsheet of the number of electoral votes in the American Electoral College.\n",
        "\n",
        "## Importing and structure"
      ]
    },
    {
      "cell_type": "code",
      "metadata": {
        "id": "R6_fIQ2vVMzv"
      },
      "source": [
        "# Let us import the pandas library\n",
        "import pandas as pd"
      ],
      "execution_count": null,
      "outputs": []
    },
    {
      "cell_type": "code",
      "metadata": {
        "id": "ZggLP4lKWk6e",
        "outputId": "80280b60-6549-461c-b3d1-7dfd536c4444",
        "colab": {
          "base_uri": "https://localhost:8080/"
        }
      },
      "source": [
        "!wget \"https://raw.githubusercontent.com/AsutoshSatapathy/NumericalPython/main/data/electoral_votes.csv\""
      ],
      "execution_count": 1,
      "outputs": [
        {
          "output_type": "stream",
          "text": [
            "--2020-12-20 04:13:55--  https://raw.githubusercontent.com/AsutoshSatapathy/NumericalPython/main/data/electoral_votes.csv\n",
            "Resolving raw.githubusercontent.com (raw.githubusercontent.com)... 151.101.0.133, 151.101.64.133, 151.101.128.133, ...\n",
            "Connecting to raw.githubusercontent.com (raw.githubusercontent.com)|151.101.0.133|:443... connected.\n",
            "HTTP request sent, awaiting response... 200 OK\n",
            "Length: 679 [text/plain]\n",
            "Saving to: ‘electoral_votes.csv’\n",
            "\n",
            "electoral_votes.csv 100%[===================>]     679  --.-KB/s    in 0s      \n",
            "\n",
            "2020-12-20 04:13:55 (24.3 MB/s) - ‘electoral_votes.csv’ saved [679/679]\n",
            "\n"
          ],
          "name": "stdout"
        }
      ]
    },
    {
      "cell_type": "code",
      "metadata": {
        "id": "o9PiDuDRWqtu",
        "outputId": "6204443d-b9a4-4854-b629-5e587416c202",
        "colab": {
          "base_uri": "https://localhost:8080/"
        }
      },
      "source": [
        "!wget \"https://raw.githubusercontent.com/AsutoshSatapathy/NumericalPython/main/data/combined_population_votes.csv\""
      ],
      "execution_count": 2,
      "outputs": [
        {
          "output_type": "stream",
          "text": [
            "--2020-12-20 04:14:33--  https://raw.githubusercontent.com/AsutoshSatapathy/NumericalPython/main/data/combined_population_votes.csv\n",
            "Resolving raw.githubusercontent.com (raw.githubusercontent.com)... 151.101.0.133, 151.101.64.133, 151.101.128.133, ...\n",
            "Connecting to raw.githubusercontent.com (raw.githubusercontent.com)|151.101.0.133|:443... connected.\n",
            "HTTP request sent, awaiting response... 200 OK\n",
            "Length: 1365 (1.3K) [text/plain]\n",
            "Saving to: ‘combined_population_votes.csv’\n",
            "\n",
            "\r          combined_   0%[                    ]       0  --.-KB/s               \rcombined_population 100%[===================>]   1.33K  --.-KB/s    in 0s      \n",
            "\n",
            "2020-12-20 04:14:34 (68.8 MB/s) - ‘combined_population_votes.csv’ saved [1365/1365]\n",
            "\n"
          ],
          "name": "stdout"
        }
      ]
    },
    {
      "cell_type": "code",
      "metadata": {
        "id": "PtGwwcWHVMzw",
        "outputId": "f300e55f-4716-4bd2-fc96-4cc2376494b9",
        "colab": {
          "base_uri": "https://localhost:8080/",
          "height": 204
        }
      },
      "source": [
        "import pandas as pd\n",
        "electoral_votes = pd.read_csv(\"electoral_votes.csv\")\n",
        "electoral_votes.head()"
      ],
      "execution_count": 4,
      "outputs": [
        {
          "output_type": "execute_result",
          "data": {
            "text/html": [
              "<div>\n",
              "<style scoped>\n",
              "    .dataframe tbody tr th:only-of-type {\n",
              "        vertical-align: middle;\n",
              "    }\n",
              "\n",
              "    .dataframe tbody tr th {\n",
              "        vertical-align: top;\n",
              "    }\n",
              "\n",
              "    .dataframe thead th {\n",
              "        text-align: right;\n",
              "    }\n",
              "</style>\n",
              "<table border=\"1\" class=\"dataframe\">\n",
              "  <thead>\n",
              "    <tr style=\"text-align: right;\">\n",
              "      <th></th>\n",
              "      <th>State</th>\n",
              "      <th>Votes</th>\n",
              "    </tr>\n",
              "  </thead>\n",
              "  <tbody>\n",
              "    <tr>\n",
              "      <th>0</th>\n",
              "      <td>California</td>\n",
              "      <td>55</td>\n",
              "    </tr>\n",
              "    <tr>\n",
              "      <th>1</th>\n",
              "      <td>Texas</td>\n",
              "      <td>38</td>\n",
              "    </tr>\n",
              "    <tr>\n",
              "      <th>2</th>\n",
              "      <td>New York</td>\n",
              "      <td>29</td>\n",
              "    </tr>\n",
              "    <tr>\n",
              "      <th>3</th>\n",
              "      <td>Florida</td>\n",
              "      <td>29</td>\n",
              "    </tr>\n",
              "    <tr>\n",
              "      <th>4</th>\n",
              "      <td>Illinois</td>\n",
              "      <td>20</td>\n",
              "    </tr>\n",
              "  </tbody>\n",
              "</table>\n",
              "</div>"
            ],
            "text/plain": [
              "        State  Votes\n",
              "0  California     55\n",
              "1       Texas     38\n",
              "2    New York     29\n",
              "3     Florida     29\n",
              "4    Illinois     20"
            ]
          },
          "metadata": {
            "tags": []
          },
          "execution_count": 4
        }
      ]
    },
    {
      "cell_type": "code",
      "metadata": {
        "id": "Zm1B1PTiYlKr"
      },
      "source": [
        "electoral_votes.head?"
      ],
      "execution_count": 5,
      "outputs": []
    },
    {
      "cell_type": "code",
      "metadata": {
        "id": "-2hQlR7hY25j",
        "outputId": "f806aa4c-452a-47f1-b63b-71e5d13cdc25",
        "colab": {
          "base_uri": "https://localhost:8080/"
        }
      },
      "source": [
        "electoral_votes.shape"
      ],
      "execution_count": 6,
      "outputs": [
        {
          "output_type": "execute_result",
          "data": {
            "text/plain": [
              "(51, 2)"
            ]
          },
          "metadata": {
            "tags": []
          },
          "execution_count": 6
        }
      ]
    },
    {
      "cell_type": "code",
      "metadata": {
        "id": "GHckz-4OY7Z4",
        "outputId": "3a52d0fc-8ac6-4385-c557-6f39f23e04b7",
        "colab": {
          "base_uri": "https://localhost:8080/"
        }
      },
      "source": [
        "electoral_votes.dtypes"
      ],
      "execution_count": 7,
      "outputs": [
        {
          "output_type": "execute_result",
          "data": {
            "text/plain": [
              "State    object\n",
              "Votes     int64\n",
              "dtype: object"
            ]
          },
          "metadata": {
            "tags": []
          },
          "execution_count": 7
        }
      ]
    },
    {
      "cell_type": "code",
      "metadata": {
        "id": "5URcxCsuZQbp",
        "outputId": "d1999b59-eb05-4e85-cee6-c47083e29890",
        "colab": {
          "base_uri": "https://localhost:8080/"
        }
      },
      "source": [
        "electoral_votes['Votes']"
      ],
      "execution_count": 9,
      "outputs": [
        {
          "output_type": "execute_result",
          "data": {
            "text/plain": [
              "0     55\n",
              "1     38\n",
              "2     29\n",
              "3     29\n",
              "4     20\n",
              "5     20\n",
              "6     18\n",
              "7     16\n",
              "8     16\n",
              "9     15\n",
              "10    14\n",
              "11    13\n",
              "12    12\n",
              "13    11\n",
              "14    11\n",
              "15    11\n",
              "16    11\n",
              "17    10\n",
              "18    10\n",
              "19    10\n",
              "20    10\n",
              "21     9\n",
              "22     9\n",
              "23     9\n",
              "24     8\n",
              "25     8\n",
              "26     7\n",
              "27     7\n",
              "28     7\n",
              "29     6\n",
              "30     6\n",
              "31     6\n",
              "32     6\n",
              "33     6\n",
              "34     6\n",
              "35     5\n",
              "36     5\n",
              "37     5\n",
              "38     4\n",
              "39     4\n",
              "40     4\n",
              "41     4\n",
              "42     4\n",
              "43     3\n",
              "44     3\n",
              "45     3\n",
              "46     3\n",
              "47     3\n",
              "48     3\n",
              "49     3\n",
              "50     3\n",
              "Name: Votes, dtype: int64"
            ]
          },
          "metadata": {
            "tags": []
          },
          "execution_count": 9
        }
      ]
    },
    {
      "cell_type": "code",
      "metadata": {
        "id": "uwps5nVoZh1B"
      },
      "source": [
        ""
      ],
      "execution_count": null,
      "outputs": []
    },
    {
      "cell_type": "markdown",
      "metadata": {
        "id": "3uZ7GcSVVMzx"
      },
      "source": [
        "What we have now is a spreadsheet with indexed rows and named columns, called a dataframe in pandas.  `electoral_votes` is an instance of the pd.DataFrame class, created by calling the pd.read_csv \"constructor function\".\n",
        "\n",
        "`electoral_votes` is a dataframe object, and it has methods (functions) belonging to it. For example, `electoral_votes.head()` is a method that shows the first 5 rows of the dataframe.\n",
        "\n",
        "A pandas dataframe is a set of columns pasted together into a spreadsheet, as shown in the schematic below, which is taken from the cheatsheet above. The columns in pandas are called series objects.\n",
        "\n",
        "![](https://github.com/AsutoshSatapathy/NumericalPython/blob/main/images/pandastruct.png?raw=1)\n",
        "\n",
        "Here, `States` and `Votes` are Pandas series objects. \n"
      ]
    },
    {
      "cell_type": "code",
      "metadata": {
        "id": "VqxAyurpVMzx",
        "outputId": "4aa8cfc5-7a8d-419a-a921-9baac217733f"
      },
      "source": [
        "electoral_votes.columns"
      ],
      "execution_count": null,
      "outputs": [
        {
          "output_type": "execute_result",
          "data": {
            "text/plain": [
              "Index(['State', 'Votes'], dtype='object')"
            ]
          },
          "metadata": {
            "tags": []
          },
          "execution_count": 3
        }
      ]
    },
    {
      "cell_type": "markdown",
      "metadata": {
        "id": "HLxMR51hVMzx"
      },
      "source": [
        "We can find out the object type by using the type function."
      ]
    },
    {
      "cell_type": "code",
      "metadata": {
        "id": "oR4K9YXwVMzy",
        "outputId": "3d515716-c75f-4a6a-faf2-b169f07943e8"
      },
      "source": [
        "print('Electoral votes is a ', type(electoral_votes))\n",
        "print('Votes is a ', type(electoral_votes['Votes']))"
      ],
      "execution_count": null,
      "outputs": [
        {
          "output_type": "stream",
          "text": [
            "Electoral votes is a  <class 'pandas.core.frame.DataFrame'>\n",
            "Votes is a  <class 'pandas.core.series.Series'>\n"
          ],
          "name": "stdout"
        }
      ]
    },
    {
      "cell_type": "markdown",
      "metadata": {
        "id": "-ib897qOVMzy"
      },
      "source": [
        "What is the \"shape\" of the dataframe?"
      ]
    },
    {
      "cell_type": "code",
      "metadata": {
        "id": "zkNM1CVAVMzy",
        "outputId": "5a397c39-9bc6-4e8d-9a6e-652f31ce142f"
      },
      "source": [
        "electoral_votes.shape"
      ],
      "execution_count": null,
      "outputs": [
        {
          "output_type": "execute_result",
          "data": {
            "text/plain": [
              "(51, 2)"
            ]
          },
          "metadata": {
            "tags": []
          },
          "execution_count": 5
        }
      ]
    },
    {
      "cell_type": "markdown",
      "metadata": {
        "id": "O1y4JbkeVMzy"
      },
      "source": [
        "And the datatypes? Pandas is built on top of numpy and thus wants columns to have unique types."
      ]
    },
    {
      "cell_type": "code",
      "metadata": {
        "id": "nlhZnQZTVMzz",
        "outputId": "9869f291-c6b1-4664-8bf6-bd7f58eef051"
      },
      "source": [
        "electoral_votes.dtypes"
      ],
      "execution_count": null,
      "outputs": [
        {
          "output_type": "execute_result",
          "data": {
            "text/plain": [
              "State    object\n",
              "Votes     int64\n",
              "dtype: object"
            ]
          },
          "metadata": {
            "tags": []
          },
          "execution_count": 6
        }
      ]
    },
    {
      "cell_type": "markdown",
      "metadata": {
        "id": "CN-Y_-gEVMzz"
      },
      "source": [
        "## Access\n",
        "\n",
        "As we see above, the pandas dataframe acts like a dictionary, with the keys being the column names."
      ]
    },
    {
      "cell_type": "code",
      "metadata": {
        "id": "FHWKXVsUVMzz",
        "outputId": "5c9f4bd4-0874-404c-b224-657cbfb9e7b3"
      },
      "source": [
        "electoral_votes['Votes']"
      ],
      "execution_count": null,
      "outputs": [
        {
          "output_type": "execute_result",
          "data": {
            "text/plain": [
              "0     55\n",
              "1     38\n",
              "2     29\n",
              "3     29\n",
              "4     20\n",
              "5     20\n",
              "6     18\n",
              "7     16\n",
              "8     16\n",
              "9     15\n",
              "10    14\n",
              "11    13\n",
              "12    12\n",
              "13    11\n",
              "14    11\n",
              "15    11\n",
              "16    11\n",
              "17    10\n",
              "18    10\n",
              "19    10\n",
              "20    10\n",
              "21     9\n",
              "22     9\n",
              "23     9\n",
              "24     8\n",
              "25     8\n",
              "26     7\n",
              "27     7\n",
              "28     7\n",
              "29     6\n",
              "30     6\n",
              "31     6\n",
              "32     6\n",
              "33     6\n",
              "34     6\n",
              "35     5\n",
              "36     5\n",
              "37     5\n",
              "38     4\n",
              "39     4\n",
              "40     4\n",
              "41     4\n",
              "42     4\n",
              "43     3\n",
              "44     3\n",
              "45     3\n",
              "46     3\n",
              "47     3\n",
              "48     3\n",
              "49     3\n",
              "50     3\n",
              "Name: Votes, dtype: int64"
            ]
          },
          "metadata": {
            "tags": []
          },
          "execution_count": 7
        }
      ]
    },
    {
      "cell_type": "markdown",
      "metadata": {
        "id": "ao8QqLxvVMzz"
      },
      "source": [
        "You could also access them like this, if the variable name allows it"
      ]
    },
    {
      "cell_type": "code",
      "metadata": {
        "id": "NEGn9h04VMz0",
        "outputId": "fe81060a-e55c-4bfb-e75e-16a67d008cb6"
      },
      "source": [
        "electoral_votes.Votes"
      ],
      "execution_count": null,
      "outputs": [
        {
          "output_type": "execute_result",
          "data": {
            "text/plain": [
              "0     55\n",
              "1     38\n",
              "2     29\n",
              "3     29\n",
              "4     20\n",
              "5     20\n",
              "6     18\n",
              "7     16\n",
              "8     16\n",
              "9     15\n",
              "10    14\n",
              "11    13\n",
              "12    12\n",
              "13    11\n",
              "14    11\n",
              "15    11\n",
              "16    11\n",
              "17    10\n",
              "18    10\n",
              "19    10\n",
              "20    10\n",
              "21     9\n",
              "22     9\n",
              "23     9\n",
              "24     8\n",
              "25     8\n",
              "26     7\n",
              "27     7\n",
              "28     7\n",
              "29     6\n",
              "30     6\n",
              "31     6\n",
              "32     6\n",
              "33     6\n",
              "34     6\n",
              "35     5\n",
              "36     5\n",
              "37     5\n",
              "38     4\n",
              "39     4\n",
              "40     4\n",
              "41     4\n",
              "42     4\n",
              "43     3\n",
              "44     3\n",
              "45     3\n",
              "46     3\n",
              "47     3\n",
              "48     3\n",
              "49     3\n",
              "50     3\n",
              "Name: Votes, dtype: int64"
            ]
          },
          "metadata": {
            "tags": []
          },
          "execution_count": 8
        }
      ]
    },
    {
      "cell_type": "markdown",
      "metadata": {
        "id": "-0EuAGnVVMz0"
      },
      "source": [
        "## Indexes\n",
        "\n",
        "Since the actual file looks something like this:\n",
        "\n",
        "```\n",
        "State,Votes\n",
        "California,55\n",
        "Texas,38\n",
        "New York,29\n",
        "Florida,29\n",
        "Illinois,20\n",
        "Pennsylvania,20\n",
        "```\n",
        "You can see that an index has been added, and its numerical, and starts at 0 (like in the lists). This index is not particularly useful, so lets set the state column as the index. We can do this because the states in the USA have **unique** names"
      ]
    },
    {
      "cell_type": "code",
      "metadata": {
        "id": "zgd5RSL6VMz0",
        "outputId": "9255f598-bed1-4afd-d9c5-0d60f8c09d26"
      },
      "source": [
        "electoral_votes = electoral_votes.set_index('State')\n",
        "electoral_votes.head()"
      ],
      "execution_count": null,
      "outputs": [
        {
          "output_type": "execute_result",
          "data": {
            "text/html": [
              "<div>\n",
              "<style scoped>\n",
              "    .dataframe tbody tr th:only-of-type {\n",
              "        vertical-align: middle;\n",
              "    }\n",
              "\n",
              "    .dataframe tbody tr th {\n",
              "        vertical-align: top;\n",
              "    }\n",
              "\n",
              "    .dataframe thead th {\n",
              "        text-align: right;\n",
              "    }\n",
              "</style>\n",
              "<table border=\"1\" class=\"dataframe\">\n",
              "  <thead>\n",
              "    <tr style=\"text-align: right;\">\n",
              "      <th></th>\n",
              "      <th>Votes</th>\n",
              "    </tr>\n",
              "    <tr>\n",
              "      <th>State</th>\n",
              "      <th></th>\n",
              "    </tr>\n",
              "  </thead>\n",
              "  <tbody>\n",
              "    <tr>\n",
              "      <th>California</th>\n",
              "      <td>55</td>\n",
              "    </tr>\n",
              "    <tr>\n",
              "      <th>Texas</th>\n",
              "      <td>38</td>\n",
              "    </tr>\n",
              "    <tr>\n",
              "      <th>New York</th>\n",
              "      <td>29</td>\n",
              "    </tr>\n",
              "    <tr>\n",
              "      <th>Florida</th>\n",
              "      <td>29</td>\n",
              "    </tr>\n",
              "    <tr>\n",
              "      <th>Illinois</th>\n",
              "      <td>20</td>\n",
              "    </tr>\n",
              "  </tbody>\n",
              "</table>\n",
              "</div>"
            ],
            "text/plain": [
              "            Votes\n",
              "State            \n",
              "California     55\n",
              "Texas          38\n",
              "New York       29\n",
              "Florida        29\n",
              "Illinois       20"
            ]
          },
          "metadata": {
            "tags": []
          },
          "execution_count": 9
        }
      ]
    },
    {
      "cell_type": "markdown",
      "metadata": {
        "id": "pRGQcngrVMz0"
      },
      "source": [
        "This changes the shape of the dataframe!"
      ]
    },
    {
      "cell_type": "code",
      "metadata": {
        "id": "J3isTQgBVMz0",
        "outputId": "b244f683-a448-4179-c9f3-c30e10160df0"
      },
      "source": [
        "electoral_votes.shape"
      ],
      "execution_count": null,
      "outputs": [
        {
          "output_type": "execute_result",
          "data": {
            "text/plain": [
              "(51, 1)"
            ]
          },
          "metadata": {
            "tags": []
          },
          "execution_count": 10
        }
      ]
    },
    {
      "cell_type": "markdown",
      "metadata": {
        "id": "fF2DIR7tVMz1"
      },
      "source": [
        "Notice how we used the `electoral_votes` variable twice in a line above. Pandas returns new objects in memory when we do something to a dataframe (here, setting the index). We relabel the new memory with the same label.\n",
        "\n",
        "What happens to the old memory? When nothing refers to it, Python \"garbage collects\" it."
      ]
    },
    {
      "cell_type": "markdown",
      "metadata": {
        "id": "fxWp7xQtVMz1"
      },
      "source": [
        "## Combining Data"
      ]
    },
    {
      "cell_type": "markdown",
      "metadata": {
        "id": "NvuA1j3jVMz1"
      },
      "source": [
        "Let us read another csv file into a pandas dataframe. This csv file provides us information about the population of every state in the US. "
      ]
    },
    {
      "cell_type": "code",
      "metadata": {
        "id": "8-01XjWmVMz1",
        "outputId": "2444069f-3900-46a3-e2b9-11eb7ac31608"
      },
      "source": [
        "population_2012=pd.read_csv(\"data/population_2012.csv\").set_index('State')\n",
        "population_2012.head()"
      ],
      "execution_count": null,
      "outputs": [
        {
          "output_type": "execute_result",
          "data": {
            "text/html": [
              "<div>\n",
              "<style scoped>\n",
              "    .dataframe tbody tr th:only-of-type {\n",
              "        vertical-align: middle;\n",
              "    }\n",
              "\n",
              "    .dataframe tbody tr th {\n",
              "        vertical-align: top;\n",
              "    }\n",
              "\n",
              "    .dataframe thead th {\n",
              "        text-align: right;\n",
              "    }\n",
              "</style>\n",
              "<table border=\"1\" class=\"dataframe\">\n",
              "  <thead>\n",
              "    <tr style=\"text-align: right;\">\n",
              "      <th></th>\n",
              "      <th>Population</th>\n",
              "    </tr>\n",
              "    <tr>\n",
              "      <th>State</th>\n",
              "      <th></th>\n",
              "    </tr>\n",
              "  </thead>\n",
              "  <tbody>\n",
              "    <tr>\n",
              "      <th>Alaska</th>\n",
              "      <td>710000</td>\n",
              "    </tr>\n",
              "    <tr>\n",
              "      <th>Alabama</th>\n",
              "      <td>4780000</td>\n",
              "    </tr>\n",
              "    <tr>\n",
              "      <th>Arkansas</th>\n",
              "      <td>2916000</td>\n",
              "    </tr>\n",
              "    <tr>\n",
              "      <th>Arizona</th>\n",
              "      <td>6392000</td>\n",
              "    </tr>\n",
              "    <tr>\n",
              "      <th>California</th>\n",
              "      <td>37254000</td>\n",
              "    </tr>\n",
              "  </tbody>\n",
              "</table>\n",
              "</div>"
            ],
            "text/plain": [
              "            Population\n",
              "State                 \n",
              "Alaska          710000\n",
              "Alabama        4780000\n",
              "Arkansas       2916000\n",
              "Arizona        6392000\n",
              "California    37254000"
            ]
          },
          "metadata": {
            "tags": []
          },
          "execution_count": 11
        }
      ]
    },
    {
      "cell_type": "code",
      "metadata": {
        "id": "ywdZSzBfVMz1",
        "outputId": "3c4a6c4a-0e99-4c29-9ddf-1791e7bf9add"
      },
      "source": [
        "population_2012.shape"
      ],
      "execution_count": null,
      "outputs": [
        {
          "output_type": "execute_result",
          "data": {
            "text/plain": [
              "(51, 1)"
            ]
          },
          "metadata": {
            "tags": []
          },
          "execution_count": 12
        }
      ]
    },
    {
      "cell_type": "markdown",
      "metadata": {
        "id": "JOznGO8YVMz2"
      },
      "source": [
        "We now have two dataframes with state names as an index. Lets now try to combine these dataframes together so that we have all the information in one dataframe. This is identical to a SQL inner join."
      ]
    },
    {
      "cell_type": "code",
      "metadata": {
        "id": "1M4Ay7_kVMz2",
        "outputId": "76d3391c-f269-49ef-8406-05e6539311e4"
      },
      "source": [
        "combined = population_2012.join(electoral_votes)\n",
        "combined.head()"
      ],
      "execution_count": null,
      "outputs": [
        {
          "output_type": "execute_result",
          "data": {
            "text/html": [
              "<div>\n",
              "<style scoped>\n",
              "    .dataframe tbody tr th:only-of-type {\n",
              "        vertical-align: middle;\n",
              "    }\n",
              "\n",
              "    .dataframe tbody tr th {\n",
              "        vertical-align: top;\n",
              "    }\n",
              "\n",
              "    .dataframe thead th {\n",
              "        text-align: right;\n",
              "    }\n",
              "</style>\n",
              "<table border=\"1\" class=\"dataframe\">\n",
              "  <thead>\n",
              "    <tr style=\"text-align: right;\">\n",
              "      <th></th>\n",
              "      <th>Population</th>\n",
              "      <th>Votes</th>\n",
              "    </tr>\n",
              "    <tr>\n",
              "      <th>State</th>\n",
              "      <th></th>\n",
              "      <th></th>\n",
              "    </tr>\n",
              "  </thead>\n",
              "  <tbody>\n",
              "    <tr>\n",
              "      <th>Alaska</th>\n",
              "      <td>710000</td>\n",
              "      <td>3</td>\n",
              "    </tr>\n",
              "    <tr>\n",
              "      <th>Alabama</th>\n",
              "      <td>4780000</td>\n",
              "      <td>9</td>\n",
              "    </tr>\n",
              "    <tr>\n",
              "      <th>Arkansas</th>\n",
              "      <td>2916000</td>\n",
              "      <td>6</td>\n",
              "    </tr>\n",
              "    <tr>\n",
              "      <th>Arizona</th>\n",
              "      <td>6392000</td>\n",
              "      <td>11</td>\n",
              "    </tr>\n",
              "    <tr>\n",
              "      <th>California</th>\n",
              "      <td>37254000</td>\n",
              "      <td>55</td>\n",
              "    </tr>\n",
              "  </tbody>\n",
              "</table>\n",
              "</div>"
            ],
            "text/plain": [
              "            Population  Votes\n",
              "State                        \n",
              "Alaska          710000      3\n",
              "Alabama        4780000      9\n",
              "Arkansas       2916000      6\n",
              "Arizona        6392000     11\n",
              "California    37254000     55"
            ]
          },
          "metadata": {
            "tags": []
          },
          "execution_count": 13
        }
      ]
    },
    {
      "cell_type": "markdown",
      "metadata": {
        "id": "IHo7QpANVMz2"
      },
      "source": [
        "## Operations on dataframes and series"
      ]
    },
    {
      "cell_type": "markdown",
      "metadata": {
        "id": "sR8gvAzdVMz2"
      },
      "source": [
        "You must work with these sdataframes and series using pandas and numpy functions for reasons of speed. So dont iterate explicitly, let pandas do it for you. Let us add a column which gives us population in millions."
      ]
    },
    {
      "cell_type": "code",
      "metadata": {
        "id": "ky9hb8eXVMz2",
        "outputId": "dd847699-e548-4a3d-88ce-8c3c3d08c9af"
      },
      "source": [
        "combined['popmills'] = combined.Population.apply(lambda x: x/1000000.)\n",
        "combined.head()"
      ],
      "execution_count": null,
      "outputs": [
        {
          "output_type": "execute_result",
          "data": {
            "text/html": [
              "<div>\n",
              "<style scoped>\n",
              "    .dataframe tbody tr th:only-of-type {\n",
              "        vertical-align: middle;\n",
              "    }\n",
              "\n",
              "    .dataframe tbody tr th {\n",
              "        vertical-align: top;\n",
              "    }\n",
              "\n",
              "    .dataframe thead th {\n",
              "        text-align: right;\n",
              "    }\n",
              "</style>\n",
              "<table border=\"1\" class=\"dataframe\">\n",
              "  <thead>\n",
              "    <tr style=\"text-align: right;\">\n",
              "      <th></th>\n",
              "      <th>Population</th>\n",
              "      <th>Votes</th>\n",
              "      <th>popmills</th>\n",
              "    </tr>\n",
              "    <tr>\n",
              "      <th>State</th>\n",
              "      <th></th>\n",
              "      <th></th>\n",
              "      <th></th>\n",
              "    </tr>\n",
              "  </thead>\n",
              "  <tbody>\n",
              "    <tr>\n",
              "      <th>Alaska</th>\n",
              "      <td>710000</td>\n",
              "      <td>3</td>\n",
              "      <td>0.710</td>\n",
              "    </tr>\n",
              "    <tr>\n",
              "      <th>Alabama</th>\n",
              "      <td>4780000</td>\n",
              "      <td>9</td>\n",
              "      <td>4.780</td>\n",
              "    </tr>\n",
              "    <tr>\n",
              "      <th>Arkansas</th>\n",
              "      <td>2916000</td>\n",
              "      <td>6</td>\n",
              "      <td>2.916</td>\n",
              "    </tr>\n",
              "    <tr>\n",
              "      <th>Arizona</th>\n",
              "      <td>6392000</td>\n",
              "      <td>11</td>\n",
              "      <td>6.392</td>\n",
              "    </tr>\n",
              "    <tr>\n",
              "      <th>California</th>\n",
              "      <td>37254000</td>\n",
              "      <td>55</td>\n",
              "      <td>37.254</td>\n",
              "    </tr>\n",
              "  </tbody>\n",
              "</table>\n",
              "</div>"
            ],
            "text/plain": [
              "            Population  Votes  popmills\n",
              "State                                  \n",
              "Alaska          710000      3     0.710\n",
              "Alabama        4780000      9     4.780\n",
              "Arkansas       2916000      6     2.916\n",
              "Arizona        6392000     11     6.392\n",
              "California    37254000     55    37.254"
            ]
          },
          "metadata": {
            "tags": []
          },
          "execution_count": 16
        }
      ]
    },
    {
      "cell_type": "markdown",
      "metadata": {
        "id": "WYHdfES2VMz2"
      },
      "source": [
        "You can access multiple columns as a sub-dataframe using an array-indexing syntax"
      ]
    },
    {
      "cell_type": "code",
      "metadata": {
        "id": "Xe6U_YYbVMz3",
        "outputId": "7c956497-34d4-4174-861d-fce09984b6c9"
      },
      "source": [
        "combined[['popmills', 'Votes']].head()"
      ],
      "execution_count": null,
      "outputs": [
        {
          "output_type": "execute_result",
          "data": {
            "text/html": [
              "<div>\n",
              "<style scoped>\n",
              "    .dataframe tbody tr th:only-of-type {\n",
              "        vertical-align: middle;\n",
              "    }\n",
              "\n",
              "    .dataframe tbody tr th {\n",
              "        vertical-align: top;\n",
              "    }\n",
              "\n",
              "    .dataframe thead th {\n",
              "        text-align: right;\n",
              "    }\n",
              "</style>\n",
              "<table border=\"1\" class=\"dataframe\">\n",
              "  <thead>\n",
              "    <tr style=\"text-align: right;\">\n",
              "      <th></th>\n",
              "      <th>popmills</th>\n",
              "      <th>Votes</th>\n",
              "    </tr>\n",
              "    <tr>\n",
              "      <th>State</th>\n",
              "      <th></th>\n",
              "      <th></th>\n",
              "    </tr>\n",
              "  </thead>\n",
              "  <tbody>\n",
              "    <tr>\n",
              "      <th>Alaska</th>\n",
              "      <td>0.710</td>\n",
              "      <td>3</td>\n",
              "    </tr>\n",
              "    <tr>\n",
              "      <th>Alabama</th>\n",
              "      <td>4.780</td>\n",
              "      <td>9</td>\n",
              "    </tr>\n",
              "    <tr>\n",
              "      <th>Arkansas</th>\n",
              "      <td>2.916</td>\n",
              "      <td>6</td>\n",
              "    </tr>\n",
              "    <tr>\n",
              "      <th>Arizona</th>\n",
              "      <td>6.392</td>\n",
              "      <td>11</td>\n",
              "    </tr>\n",
              "    <tr>\n",
              "      <th>California</th>\n",
              "      <td>37.254</td>\n",
              "      <td>55</td>\n",
              "    </tr>\n",
              "  </tbody>\n",
              "</table>\n",
              "</div>"
            ],
            "text/plain": [
              "            popmills  Votes\n",
              "State                      \n",
              "Alaska         0.710      3\n",
              "Alabama        4.780      9\n",
              "Arkansas       2.916      6\n",
              "Arizona        6.392     11\n",
              "California    37.254     55"
            ]
          },
          "metadata": {
            "tags": []
          },
          "execution_count": 20
        }
      ]
    },
    {
      "cell_type": "markdown",
      "metadata": {
        "id": "xe7cy_DxVMz3"
      },
      "source": [
        "What if you wanted the 10 most populous states electoral votes and population in millions? You would have to sort by `popmills`, and get the top 10"
      ]
    },
    {
      "cell_type": "code",
      "metadata": {
        "id": "GY48_fRLVMz3",
        "outputId": "a2aabe1e-07b0-4c44-e4c1-c3dec930185a"
      },
      "source": [
        "combined.sort_values('popmills', ascending=False)[['popmills', 'Votes']].head(10)"
      ],
      "execution_count": null,
      "outputs": [
        {
          "output_type": "execute_result",
          "data": {
            "text/html": [
              "<div>\n",
              "<style scoped>\n",
              "    .dataframe tbody tr th:only-of-type {\n",
              "        vertical-align: middle;\n",
              "    }\n",
              "\n",
              "    .dataframe tbody tr th {\n",
              "        vertical-align: top;\n",
              "    }\n",
              "\n",
              "    .dataframe thead th {\n",
              "        text-align: right;\n",
              "    }\n",
              "</style>\n",
              "<table border=\"1\" class=\"dataframe\">\n",
              "  <thead>\n",
              "    <tr style=\"text-align: right;\">\n",
              "      <th></th>\n",
              "      <th>popmills</th>\n",
              "      <th>Votes</th>\n",
              "    </tr>\n",
              "    <tr>\n",
              "      <th>State</th>\n",
              "      <th></th>\n",
              "      <th></th>\n",
              "    </tr>\n",
              "  </thead>\n",
              "  <tbody>\n",
              "    <tr>\n",
              "      <th>California</th>\n",
              "      <td>37.254</td>\n",
              "      <td>55</td>\n",
              "    </tr>\n",
              "    <tr>\n",
              "      <th>Texas</th>\n",
              "      <td>25.146</td>\n",
              "      <td>38</td>\n",
              "    </tr>\n",
              "    <tr>\n",
              "      <th>New York</th>\n",
              "      <td>19.378</td>\n",
              "      <td>29</td>\n",
              "    </tr>\n",
              "    <tr>\n",
              "      <th>Florida</th>\n",
              "      <td>18.801</td>\n",
              "      <td>29</td>\n",
              "    </tr>\n",
              "    <tr>\n",
              "      <th>Illinois</th>\n",
              "      <td>12.831</td>\n",
              "      <td>20</td>\n",
              "    </tr>\n",
              "    <tr>\n",
              "      <th>Pennsylvania</th>\n",
              "      <td>12.702</td>\n",
              "      <td>20</td>\n",
              "    </tr>\n",
              "    <tr>\n",
              "      <th>Ohio</th>\n",
              "      <td>11.537</td>\n",
              "      <td>18</td>\n",
              "    </tr>\n",
              "    <tr>\n",
              "      <th>Michigan</th>\n",
              "      <td>9.884</td>\n",
              "      <td>16</td>\n",
              "    </tr>\n",
              "    <tr>\n",
              "      <th>Georgia</th>\n",
              "      <td>9.688</td>\n",
              "      <td>16</td>\n",
              "    </tr>\n",
              "    <tr>\n",
              "      <th>North Carolina</th>\n",
              "      <td>9.535</td>\n",
              "      <td>15</td>\n",
              "    </tr>\n",
              "  </tbody>\n",
              "</table>\n",
              "</div>"
            ],
            "text/plain": [
              "                popmills  Votes\n",
              "State                          \n",
              "California        37.254     55\n",
              "Texas             25.146     38\n",
              "New York          19.378     29\n",
              "Florida           18.801     29\n",
              "Illinois          12.831     20\n",
              "Pennsylvania      12.702     20\n",
              "Ohio              11.537     18\n",
              "Michigan           9.884     16\n",
              "Georgia            9.688     16\n",
              "North Carolina     9.535     15"
            ]
          },
          "metadata": {
            "tags": []
          },
          "execution_count": 26
        }
      ]
    },
    {
      "cell_type": "markdown",
      "metadata": {
        "id": "LbZvT5i8VMz3"
      },
      "source": [
        "You can query dataframes by values of certain columns"
      ]
    },
    {
      "cell_type": "code",
      "metadata": {
        "id": "6PijHZEhVMz3",
        "outputId": "37c9d586-85d0-4550-9084-13351d506255"
      },
      "source": [
        "combined.query(\"10 < Votes < 15\")"
      ],
      "execution_count": null,
      "outputs": [
        {
          "output_type": "execute_result",
          "data": {
            "text/html": [
              "<div>\n",
              "<style scoped>\n",
              "    .dataframe tbody tr th:only-of-type {\n",
              "        vertical-align: middle;\n",
              "    }\n",
              "\n",
              "    .dataframe tbody tr th {\n",
              "        vertical-align: top;\n",
              "    }\n",
              "\n",
              "    .dataframe thead th {\n",
              "        text-align: right;\n",
              "    }\n",
              "</style>\n",
              "<table border=\"1\" class=\"dataframe\">\n",
              "  <thead>\n",
              "    <tr style=\"text-align: right;\">\n",
              "      <th></th>\n",
              "      <th>Population</th>\n",
              "      <th>Votes</th>\n",
              "      <th>popmills</th>\n",
              "    </tr>\n",
              "    <tr>\n",
              "      <th>State</th>\n",
              "      <th></th>\n",
              "      <th></th>\n",
              "      <th></th>\n",
              "    </tr>\n",
              "  </thead>\n",
              "  <tbody>\n",
              "    <tr>\n",
              "      <th>Arizona</th>\n",
              "      <td>6392000</td>\n",
              "      <td>11</td>\n",
              "      <td>6.392</td>\n",
              "    </tr>\n",
              "    <tr>\n",
              "      <th>Indiana</th>\n",
              "      <td>6484000</td>\n",
              "      <td>11</td>\n",
              "      <td>6.484</td>\n",
              "    </tr>\n",
              "    <tr>\n",
              "      <th>Massachusetts</th>\n",
              "      <td>6548000</td>\n",
              "      <td>11</td>\n",
              "      <td>6.548</td>\n",
              "    </tr>\n",
              "    <tr>\n",
              "      <th>New Jersey</th>\n",
              "      <td>8792000</td>\n",
              "      <td>14</td>\n",
              "      <td>8.792</td>\n",
              "    </tr>\n",
              "    <tr>\n",
              "      <th>Tennessee</th>\n",
              "      <td>6346000</td>\n",
              "      <td>11</td>\n",
              "      <td>6.346</td>\n",
              "    </tr>\n",
              "    <tr>\n",
              "      <th>Virginia</th>\n",
              "      <td>8001000</td>\n",
              "      <td>13</td>\n",
              "      <td>8.001</td>\n",
              "    </tr>\n",
              "    <tr>\n",
              "      <th>Washington</th>\n",
              "      <td>6725000</td>\n",
              "      <td>12</td>\n",
              "      <td>6.725</td>\n",
              "    </tr>\n",
              "  </tbody>\n",
              "</table>\n",
              "</div>"
            ],
            "text/plain": [
              "               Population  Votes  popmills\n",
              "State                                     \n",
              "Arizona           6392000     11     6.392\n",
              "Indiana           6484000     11     6.484\n",
              "Massachusetts     6548000     11     6.548\n",
              "New Jersey        8792000     14     8.792\n",
              "Tennessee         6346000     11     6.346\n",
              "Virginia          8001000     13     8.001\n",
              "Washington        6725000     12     6.725"
            ]
          },
          "metadata": {
            "tags": []
          },
          "execution_count": 19
        }
      ]
    },
    {
      "cell_type": "markdown",
      "metadata": {
        "id": "Mb49E5SGVMz3"
      },
      "source": [
        "This a short form for two operations:\n",
        "\n",
        "1. create a True/False boolean mask using a conditional\n",
        "2. use the mask to select specific rows from the dataframe matching the conditional; that is only those rows are chosen for whom the conditional is True"
      ]
    },
    {
      "cell_type": "code",
      "metadata": {
        "id": "m0zwpjPuVMz4",
        "outputId": "ad60ea48-d260-47c4-ba58-a228e8692a16"
      },
      "source": [
        "combined.Votes < 15"
      ],
      "execution_count": null,
      "outputs": [
        {
          "output_type": "execute_result",
          "data": {
            "text/plain": [
              "State\n",
              "Alaska                   True\n",
              "Alabama                  True\n",
              "Arkansas                 True\n",
              "Arizona                  True\n",
              "California              False\n",
              "Colorado                 True\n",
              "Connecticut              True\n",
              "District of Columbia     True\n",
              "Delaware                 True\n",
              "Florida                 False\n",
              "Georgia                 False\n",
              "Hawaii                   True\n",
              "Iowa                     True\n",
              "Idaho                    True\n",
              "Illinois                False\n",
              "Indiana                  True\n",
              "Kansas                   True\n",
              "Kentucky                 True\n",
              "Louisiana                True\n",
              "Massachusetts            True\n",
              "Maryland                 True\n",
              "Maine                    True\n",
              "Michigan                False\n",
              "Minnesota                True\n",
              "Missouri                 True\n",
              "Mississippi              True\n",
              "Montana                  True\n",
              "North Carolina          False\n",
              "North Dakota             True\n",
              "Nebraska                 True\n",
              "New Hampshire            True\n",
              "New Jersey               True\n",
              "New Mexico               True\n",
              "Nevada                   True\n",
              "New York                False\n",
              "Ohio                    False\n",
              "Oklahoma                 True\n",
              "Oregon                   True\n",
              "Pennsylvania            False\n",
              "Rhode Island             True\n",
              "South Carolina           True\n",
              "South Dakota             True\n",
              "Tennessee                True\n",
              "Texas                   False\n",
              "Utah                     True\n",
              "Virginia                 True\n",
              "Vermont                  True\n",
              "Washington               True\n",
              "Wisconsin                True\n",
              "West Virginia            True\n",
              "Wyoming                  True\n",
              "Name: Votes, dtype: bool"
            ]
          },
          "metadata": {
            "tags": []
          },
          "execution_count": 20
        }
      ]
    },
    {
      "cell_type": "code",
      "metadata": {
        "id": "i4RRRxlkVMz4",
        "outputId": "6558523a-bda1-4dd3-a283-7cbd4fcf0585"
      },
      "source": [
        "combined.Votes > 10"
      ],
      "execution_count": null,
      "outputs": [
        {
          "output_type": "execute_result",
          "data": {
            "text/plain": [
              "State\n",
              "Alaska                  False\n",
              "Alabama                 False\n",
              "Arkansas                False\n",
              "Arizona                  True\n",
              "California               True\n",
              "Colorado                False\n",
              "Connecticut             False\n",
              "District of Columbia    False\n",
              "Delaware                False\n",
              "Florida                  True\n",
              "Georgia                  True\n",
              "Hawaii                  False\n",
              "Iowa                    False\n",
              "Idaho                   False\n",
              "Illinois                 True\n",
              "Indiana                  True\n",
              "Kansas                  False\n",
              "Kentucky                False\n",
              "Louisiana               False\n",
              "Massachusetts            True\n",
              "Maryland                False\n",
              "Maine                   False\n",
              "Michigan                 True\n",
              "Minnesota               False\n",
              "Missouri                False\n",
              "Mississippi             False\n",
              "Montana                 False\n",
              "North Carolina           True\n",
              "North Dakota            False\n",
              "Nebraska                False\n",
              "New Hampshire           False\n",
              "New Jersey               True\n",
              "New Mexico              False\n",
              "Nevada                  False\n",
              "New York                 True\n",
              "Ohio                     True\n",
              "Oklahoma                False\n",
              "Oregon                  False\n",
              "Pennsylvania             True\n",
              "Rhode Island            False\n",
              "South Carolina          False\n",
              "South Dakota            False\n",
              "Tennessee                True\n",
              "Texas                    True\n",
              "Utah                    False\n",
              "Virginia                 True\n",
              "Vermont                 False\n",
              "Washington               True\n",
              "Wisconsin               False\n",
              "West Virginia           False\n",
              "Wyoming                 False\n",
              "Name: Votes, dtype: bool"
            ]
          },
          "metadata": {
            "tags": []
          },
          "execution_count": 21
        }
      ]
    },
    {
      "cell_type": "code",
      "metadata": {
        "id": "N6goc61_VMz4",
        "outputId": "24a7a3e6-2af7-406f-bd90-c0dce96b49f0"
      },
      "source": [
        "(combined.Votes > 10) & (combined.Votes < 15) # bitwise and"
      ],
      "execution_count": null,
      "outputs": [
        {
          "output_type": "execute_result",
          "data": {
            "text/plain": [
              "State\n",
              "Alaska                  False\n",
              "Alabama                 False\n",
              "Arkansas                False\n",
              "Arizona                  True\n",
              "California              False\n",
              "Colorado                False\n",
              "Connecticut             False\n",
              "District of Columbia    False\n",
              "Delaware                False\n",
              "Florida                 False\n",
              "Georgia                 False\n",
              "Hawaii                  False\n",
              "Iowa                    False\n",
              "Idaho                   False\n",
              "Illinois                False\n",
              "Indiana                  True\n",
              "Kansas                  False\n",
              "Kentucky                False\n",
              "Louisiana               False\n",
              "Massachusetts            True\n",
              "Maryland                False\n",
              "Maine                   False\n",
              "Michigan                False\n",
              "Minnesota               False\n",
              "Missouri                False\n",
              "Mississippi             False\n",
              "Montana                 False\n",
              "North Carolina          False\n",
              "North Dakota            False\n",
              "Nebraska                False\n",
              "New Hampshire           False\n",
              "New Jersey               True\n",
              "New Mexico              False\n",
              "Nevada                  False\n",
              "New York                False\n",
              "Ohio                    False\n",
              "Oklahoma                False\n",
              "Oregon                  False\n",
              "Pennsylvania            False\n",
              "Rhode Island            False\n",
              "South Carolina          False\n",
              "South Dakota            False\n",
              "Tennessee                True\n",
              "Texas                   False\n",
              "Utah                    False\n",
              "Virginia                 True\n",
              "Vermont                 False\n",
              "Washington               True\n",
              "Wisconsin               False\n",
              "West Virginia           False\n",
              "Wyoming                 False\n",
              "Name: Votes, dtype: bool"
            ]
          },
          "metadata": {
            "tags": []
          },
          "execution_count": 23
        }
      ]
    },
    {
      "cell_type": "markdown",
      "metadata": {
        "id": "i-WeNbkmVMz4"
      },
      "source": [
        "Now we do the indexing"
      ]
    },
    {
      "cell_type": "code",
      "metadata": {
        "id": "_BN_sisJVMz4",
        "outputId": "99474173-4c98-41af-8f90-10ae419cf049"
      },
      "source": [
        "combined[(combined.Votes > 10) & (combined.Votes < 15)]"
      ],
      "execution_count": null,
      "outputs": [
        {
          "output_type": "execute_result",
          "data": {
            "text/html": [
              "<div>\n",
              "<style scoped>\n",
              "    .dataframe tbody tr th:only-of-type {\n",
              "        vertical-align: middle;\n",
              "    }\n",
              "\n",
              "    .dataframe tbody tr th {\n",
              "        vertical-align: top;\n",
              "    }\n",
              "\n",
              "    .dataframe thead th {\n",
              "        text-align: right;\n",
              "    }\n",
              "</style>\n",
              "<table border=\"1\" class=\"dataframe\">\n",
              "  <thead>\n",
              "    <tr style=\"text-align: right;\">\n",
              "      <th></th>\n",
              "      <th>Population</th>\n",
              "      <th>Votes</th>\n",
              "      <th>popmills</th>\n",
              "    </tr>\n",
              "    <tr>\n",
              "      <th>State</th>\n",
              "      <th></th>\n",
              "      <th></th>\n",
              "      <th></th>\n",
              "    </tr>\n",
              "  </thead>\n",
              "  <tbody>\n",
              "    <tr>\n",
              "      <th>Arizona</th>\n",
              "      <td>6392000</td>\n",
              "      <td>11</td>\n",
              "      <td>6.392</td>\n",
              "    </tr>\n",
              "    <tr>\n",
              "      <th>Indiana</th>\n",
              "      <td>6484000</td>\n",
              "      <td>11</td>\n",
              "      <td>6.484</td>\n",
              "    </tr>\n",
              "    <tr>\n",
              "      <th>Massachusetts</th>\n",
              "      <td>6548000</td>\n",
              "      <td>11</td>\n",
              "      <td>6.548</td>\n",
              "    </tr>\n",
              "    <tr>\n",
              "      <th>New Jersey</th>\n",
              "      <td>8792000</td>\n",
              "      <td>14</td>\n",
              "      <td>8.792</td>\n",
              "    </tr>\n",
              "    <tr>\n",
              "      <th>Tennessee</th>\n",
              "      <td>6346000</td>\n",
              "      <td>11</td>\n",
              "      <td>6.346</td>\n",
              "    </tr>\n",
              "    <tr>\n",
              "      <th>Virginia</th>\n",
              "      <td>8001000</td>\n",
              "      <td>13</td>\n",
              "      <td>8.001</td>\n",
              "    </tr>\n",
              "    <tr>\n",
              "      <th>Washington</th>\n",
              "      <td>6725000</td>\n",
              "      <td>12</td>\n",
              "      <td>6.725</td>\n",
              "    </tr>\n",
              "  </tbody>\n",
              "</table>\n",
              "</div>"
            ],
            "text/plain": [
              "               Population  Votes  popmills\n",
              "State                                     \n",
              "Arizona           6392000     11     6.392\n",
              "Indiana           6484000     11     6.484\n",
              "Massachusetts     6548000     11     6.548\n",
              "New Jersey        8792000     14     8.792\n",
              "Tennessee         6346000     11     6.346\n",
              "Virginia          8001000     13     8.001\n",
              "Washington        6725000     12     6.725"
            ]
          },
          "metadata": {
            "tags": []
          },
          "execution_count": 24
        }
      ]
    },
    {
      "cell_type": "markdown",
      "metadata": {
        "id": "zX3WqQwtVMz5"
      },
      "source": [
        "## Accessing select rows in a DataFrame\n",
        "\n",
        "We have seen how to get an entire column, or an entire sub-dataframe.\n",
        "\n",
        "We'll now look at 2 methods : [*.loc*](https://pandas.pydata.org/pandas-docs/version/0.23.1/generated/pandas.DataFrame.loc.html) and [*.iloc*](https://pandas.pydata.org/pandas-docs/version/0.23.1/generated/pandas.DataFrame.iloc.html#pandas.DataFrame.iloc) that will help us select certain rows/columns from a Pandas DataFrame.\n",
        "\n",
        "*.loc* accesses a group of rows and columns by label(s) or a boolean array, whereas *.iloc* is a purely integer-location based indexing for selection by position.\n",
        "\n",
        "We'll do some examples on the `combined` Dataframe to see how this works"
      ]
    },
    {
      "cell_type": "markdown",
      "metadata": {
        "id": "YNYd7izNVMz5"
      },
      "source": [
        "**Eg1**: Say we need to find out the Population for Alabama. We shall do this by using .loc & .iloc both"
      ]
    },
    {
      "cell_type": "code",
      "metadata": {
        "id": "9ZYJL23oVMz5",
        "outputId": "1a6b81b8-a675-4ecd-defb-dec13ea844f4"
      },
      "source": [
        "print(\"The population of Alabama is:\", combined.loc['Alabama'].Population)\n",
        "print(\"The population of Alabama is:\", combined.iloc[1].Population)"
      ],
      "execution_count": null,
      "outputs": [
        {
          "output_type": "stream",
          "text": [
            "The population of Alabama is: 4780000.0\n",
            "The population of Alabama is: 4780000.0\n"
          ],
          "name": "stdout"
        }
      ]
    },
    {
      "cell_type": "markdown",
      "metadata": {
        "id": "-CgiICEvVMz5"
      },
      "source": [
        "For using *.loc*, we need to specify the index label (States) while for using *.iloc*, we need to specify the index position (for Alabama, it is 1)"
      ]
    },
    {
      "cell_type": "markdown",
      "metadata": {
        "id": "gtBgIQ-6VMz6"
      },
      "source": [
        "**Eg2**: Find out the votes of the first 5 states in the dataframe."
      ]
    },
    {
      "cell_type": "code",
      "metadata": {
        "id": "WnguJOeVVMz6",
        "outputId": "abdc9688-4f9b-426b-dd9a-97dd3ba6bdbb"
      },
      "source": [
        "combined.iloc[0:5].Votes"
      ],
      "execution_count": null,
      "outputs": [
        {
          "output_type": "execute_result",
          "data": {
            "text/plain": [
              "State\n",
              "Alaska         3\n",
              "Alabama        9\n",
              "Arkansas       6\n",
              "Arizona       11\n",
              "California    55\n",
              "Name: Votes, dtype: int64"
            ]
          },
          "metadata": {
            "tags": []
          },
          "execution_count": 28
        }
      ]
    },
    {
      "cell_type": "markdown",
      "metadata": {
        "id": "71tGcRRVVMz6"
      },
      "source": [
        "**Eg3**: Find out only the rows for all states whose population is greater than 10 million. We can write a conditional expression within the .loc brackets to do this."
      ]
    },
    {
      "cell_type": "code",
      "metadata": {
        "id": "R3jceULgVMz6",
        "outputId": "49bdb411-a059-427b-c7cf-5f1c236c45fd"
      },
      "source": [
        "combined.loc[combined['Population'] > 10000000]"
      ],
      "execution_count": null,
      "outputs": [
        {
          "output_type": "execute_result",
          "data": {
            "text/html": [
              "<div>\n",
              "<style scoped>\n",
              "    .dataframe tbody tr th:only-of-type {\n",
              "        vertical-align: middle;\n",
              "    }\n",
              "\n",
              "    .dataframe tbody tr th {\n",
              "        vertical-align: top;\n",
              "    }\n",
              "\n",
              "    .dataframe thead th {\n",
              "        text-align: right;\n",
              "    }\n",
              "</style>\n",
              "<table border=\"1\" class=\"dataframe\">\n",
              "  <thead>\n",
              "    <tr style=\"text-align: right;\">\n",
              "      <th></th>\n",
              "      <th>Population</th>\n",
              "      <th>Votes</th>\n",
              "      <th>popmills</th>\n",
              "    </tr>\n",
              "    <tr>\n",
              "      <th>State</th>\n",
              "      <th></th>\n",
              "      <th></th>\n",
              "      <th></th>\n",
              "    </tr>\n",
              "  </thead>\n",
              "  <tbody>\n",
              "    <tr>\n",
              "      <th>California</th>\n",
              "      <td>37254000</td>\n",
              "      <td>55</td>\n",
              "      <td>37.254</td>\n",
              "    </tr>\n",
              "    <tr>\n",
              "      <th>Florida</th>\n",
              "      <td>18801000</td>\n",
              "      <td>29</td>\n",
              "      <td>18.801</td>\n",
              "    </tr>\n",
              "    <tr>\n",
              "      <th>Illinois</th>\n",
              "      <td>12831000</td>\n",
              "      <td>20</td>\n",
              "      <td>12.831</td>\n",
              "    </tr>\n",
              "    <tr>\n",
              "      <th>New York</th>\n",
              "      <td>19378000</td>\n",
              "      <td>29</td>\n",
              "      <td>19.378</td>\n",
              "    </tr>\n",
              "    <tr>\n",
              "      <th>Ohio</th>\n",
              "      <td>11537000</td>\n",
              "      <td>18</td>\n",
              "      <td>11.537</td>\n",
              "    </tr>\n",
              "    <tr>\n",
              "      <th>Pennsylvania</th>\n",
              "      <td>12702000</td>\n",
              "      <td>20</td>\n",
              "      <td>12.702</td>\n",
              "    </tr>\n",
              "    <tr>\n",
              "      <th>Texas</th>\n",
              "      <td>25146000</td>\n",
              "      <td>38</td>\n",
              "      <td>25.146</td>\n",
              "    </tr>\n",
              "  </tbody>\n",
              "</table>\n",
              "</div>"
            ],
            "text/plain": [
              "              Population  Votes  popmills\n",
              "State                                    \n",
              "California      37254000     55    37.254\n",
              "Florida         18801000     29    18.801\n",
              "Illinois        12831000     20    12.831\n",
              "New York        19378000     29    19.378\n",
              "Ohio            11537000     18    11.537\n",
              "Pennsylvania    12702000     20    12.702\n",
              "Texas           25146000     38    25.146"
            ]
          },
          "metadata": {
            "tags": []
          },
          "execution_count": 29
        }
      ]
    },
    {
      "cell_type": "markdown",
      "metadata": {
        "id": "JNGVzph3VMz6"
      },
      "source": [
        "Let us save this dataframe now to a csv file named **'combined_population_votes'** on our local"
      ]
    },
    {
      "cell_type": "code",
      "metadata": {
        "id": "zxZnv-DKVMz7"
      },
      "source": [
        "combined.to_csv('data/combined_population_votes.csv')"
      ],
      "execution_count": null,
      "outputs": []
    }
  ]
}