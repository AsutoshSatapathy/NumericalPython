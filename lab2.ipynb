{
  "nbformat": 4,
  "nbformat_minor": 0,
  "metadata": {
    "kernelspec": {
      "display_name": "Python 3",
      "language": "python",
      "name": "python3"
    },
    "language_info": {
      "codemirror_mode": {
        "name": "ipython",
        "version": 3
      },
      "file_extension": ".py",
      "mimetype": "text/x-python",
      "name": "python",
      "nbconvert_exporter": "python",
      "pygments_lexer": "ipython3",
      "version": "3.7.6"
    },
    "colab": {
      "name": "lab2.ipynb",
      "provenance": [],
      "include_colab_link": true
    }
  },
  "cells": [
    {
      "cell_type": "markdown",
      "metadata": {
        "id": "view-in-github",
        "colab_type": "text"
      },
      "source": [
        "<a href=\"https://colab.research.google.com/github/AsutoshSatapathy/NumericalPython/blob/main/lab2.ipynb\" target=\"_parent\"><img src=\"https://colab.research.google.com/assets/colab-badge.svg\" alt=\"Open In Colab\"/></a>"
      ]
    },
    {
      "cell_type": "markdown",
      "metadata": {
        "id": "bdHaXyPHnGu3"
      },
      "source": [
        "# Lab 2: Pandas and numpy"
      ]
    },
    {
      "cell_type": "code",
      "metadata": {
        "id": "Y_L0OlHSnGu_"
      },
      "source": [
        "import numpy as np\n",
        "import pandas as pd"
      ],
      "execution_count": null,
      "outputs": []
    },
    {
      "cell_type": "markdown",
      "metadata": {
        "id": "2rfJlRRwnGvA"
      },
      "source": [
        "## EXERCISE 1: How fast is your car?\n",
        "\n",
        "Read in automobile data from a CSV file, storing the data in a dataframe `dfcars`.\n",
        "\n",
        "````` \n",
        "Description\n",
        "The data was extracted from the 1974 Motor Trend US magazine, and comprises fuel consumption and ten aspects of automobile design and performance for 32 automobiles (1973–74 models).\n",
        "\n",
        "Format\n",
        "\n",
        "A data frame with 32 observations on 11 variables.\n",
        "\n",
        "[, 1]\tmpg\t     Miles/(US) gallon\n",
        "[, 2]\tcyl\t     Number of cylinders\n",
        "[, 3]\tdisp\t Displacement (cu.in.)\n",
        "[, 4]\thp\t     Gross horsepower\n",
        "[, 5]\tdrat\t Rear axle ratio\n",
        "[, 6]\twt\t     Weight (1000 lbs)\n",
        "[, 7]\tqsec\t 1/4 mile time\n",
        "[, 8]\tvs\t     V/S\n",
        "[, 9]\tam\t     Transmission (0 = automatic, 1 = manual)\n",
        "[,10]\tgear\t Number of forward gears\n",
        "[,11]\tcarb\t Number of carburetors\n",
        "        \n",
        "Source\n",
        "Henderson and Velleman (1981), Building multiple regression models interactively. Biometrics, 37, 391–411.\n",
        "`````"
      ]
    },
    {
      "cell_type": "code",
      "metadata": {
        "id": "jSLIGAysnRKE",
        "outputId": "089a1fad-896c-4e56-c643-db81dfb73312",
        "colab": {
          "base_uri": "https://localhost:8080/"
        }
      },
      "source": [
        "!wget \"https://raw.githubusercontent.com/AsutoshSatapathy/NumericalPython/main/data/mtcars.csv\""
      ],
      "execution_count": 1,
      "outputs": [
        {
          "output_type": "stream",
          "text": [
            "--2020-12-20 05:27:30--  https://raw.githubusercontent.com/AsutoshSatapathy/NumericalPython/main/data/mtcars.csv\n",
            "Resolving raw.githubusercontent.com (raw.githubusercontent.com)... 151.101.0.133, 151.101.64.133, 151.101.128.133, ...\n",
            "Connecting to raw.githubusercontent.com (raw.githubusercontent.com)|151.101.0.133|:443... connected.\n",
            "HTTP request sent, awaiting response... 200 OK\n",
            "Length: 1783 (1.7K) [text/plain]\n",
            "Saving to: ‘mtcars.csv’\n",
            "\n",
            "mtcars.csv          100%[===================>]   1.74K  --.-KB/s    in 0s      \n",
            "\n",
            "2020-12-20 05:27:30 (32.7 MB/s) - ‘mtcars.csv’ saved [1783/1783]\n",
            "\n"
          ],
          "name": "stdout"
        }
      ]
    },
    {
      "cell_type": "code",
      "metadata": {
        "id": "oSb3KrUgnGvB",
        "outputId": "98e51311-5ccf-44dc-eab2-4381552a018a",
        "colab": {
          "base_uri": "https://localhost:8080/",
          "height": 204
        }
      },
      "source": [
        "# your code here\n",
        "import pandas as pd\n",
        "dfcars=pd.read_csv(\"mtcars.csv\")\n",
        "dfcars.head()"
      ],
      "execution_count": 2,
      "outputs": [
        {
          "output_type": "execute_result",
          "data": {
            "text/html": [
              "<div>\n",
              "<style scoped>\n",
              "    .dataframe tbody tr th:only-of-type {\n",
              "        vertical-align: middle;\n",
              "    }\n",
              "\n",
              "    .dataframe tbody tr th {\n",
              "        vertical-align: top;\n",
              "    }\n",
              "\n",
              "    .dataframe thead th {\n",
              "        text-align: right;\n",
              "    }\n",
              "</style>\n",
              "<table border=\"1\" class=\"dataframe\">\n",
              "  <thead>\n",
              "    <tr style=\"text-align: right;\">\n",
              "      <th></th>\n",
              "      <th>Unnamed: 0</th>\n",
              "      <th>mpg</th>\n",
              "      <th>cyl</th>\n",
              "      <th>disp</th>\n",
              "      <th>hp</th>\n",
              "      <th>drat</th>\n",
              "      <th>wt</th>\n",
              "      <th>qsec</th>\n",
              "      <th>vs</th>\n",
              "      <th>am</th>\n",
              "      <th>gear</th>\n",
              "      <th>carb</th>\n",
              "    </tr>\n",
              "  </thead>\n",
              "  <tbody>\n",
              "    <tr>\n",
              "      <th>0</th>\n",
              "      <td>Mazda RX4</td>\n",
              "      <td>21.0</td>\n",
              "      <td>6</td>\n",
              "      <td>160.0</td>\n",
              "      <td>110</td>\n",
              "      <td>3.90</td>\n",
              "      <td>2.620</td>\n",
              "      <td>16.46</td>\n",
              "      <td>0</td>\n",
              "      <td>1</td>\n",
              "      <td>4</td>\n",
              "      <td>4</td>\n",
              "    </tr>\n",
              "    <tr>\n",
              "      <th>1</th>\n",
              "      <td>Mazda RX4 Wag</td>\n",
              "      <td>21.0</td>\n",
              "      <td>6</td>\n",
              "      <td>160.0</td>\n",
              "      <td>110</td>\n",
              "      <td>3.90</td>\n",
              "      <td>2.875</td>\n",
              "      <td>17.02</td>\n",
              "      <td>0</td>\n",
              "      <td>1</td>\n",
              "      <td>4</td>\n",
              "      <td>4</td>\n",
              "    </tr>\n",
              "    <tr>\n",
              "      <th>2</th>\n",
              "      <td>Datsun 710</td>\n",
              "      <td>22.8</td>\n",
              "      <td>4</td>\n",
              "      <td>108.0</td>\n",
              "      <td>93</td>\n",
              "      <td>3.85</td>\n",
              "      <td>2.320</td>\n",
              "      <td>18.61</td>\n",
              "      <td>1</td>\n",
              "      <td>1</td>\n",
              "      <td>4</td>\n",
              "      <td>1</td>\n",
              "    </tr>\n",
              "    <tr>\n",
              "      <th>3</th>\n",
              "      <td>Hornet 4 Drive</td>\n",
              "      <td>21.4</td>\n",
              "      <td>6</td>\n",
              "      <td>258.0</td>\n",
              "      <td>110</td>\n",
              "      <td>3.08</td>\n",
              "      <td>3.215</td>\n",
              "      <td>19.44</td>\n",
              "      <td>1</td>\n",
              "      <td>0</td>\n",
              "      <td>3</td>\n",
              "      <td>1</td>\n",
              "    </tr>\n",
              "    <tr>\n",
              "      <th>4</th>\n",
              "      <td>Hornet Sportabout</td>\n",
              "      <td>18.7</td>\n",
              "      <td>8</td>\n",
              "      <td>360.0</td>\n",
              "      <td>175</td>\n",
              "      <td>3.15</td>\n",
              "      <td>3.440</td>\n",
              "      <td>17.02</td>\n",
              "      <td>0</td>\n",
              "      <td>0</td>\n",
              "      <td>3</td>\n",
              "      <td>2</td>\n",
              "    </tr>\n",
              "  </tbody>\n",
              "</table>\n",
              "</div>"
            ],
            "text/plain": [
              "          Unnamed: 0   mpg  cyl   disp   hp  ...   qsec  vs  am  gear  carb\n",
              "0          Mazda RX4  21.0    6  160.0  110  ...  16.46   0   1     4     4\n",
              "1      Mazda RX4 Wag  21.0    6  160.0  110  ...  17.02   0   1     4     4\n",
              "2         Datsun 710  22.8    4  108.0   93  ...  18.61   1   1     4     1\n",
              "3     Hornet 4 Drive  21.4    6  258.0  110  ...  19.44   1   0     3     1\n",
              "4  Hornet Sportabout  18.7    8  360.0  175  ...  17.02   0   0     3     2\n",
              "\n",
              "[5 rows x 12 columns]"
            ]
          },
          "metadata": {
            "tags": []
          },
          "execution_count": 2
        }
      ]
    },
    {
      "cell_type": "markdown",
      "metadata": {
        "id": "uuvQN-YdnGvC"
      },
      "source": [
        "That first column is messed up. Lets fix it.\n",
        "\n",
        "The first column, which seems to be the name of the car, does not have a name. Here are the first 3 lines of the file:\n",
        "\n",
        "```\n",
        "\"\",\"mpg\",\"cyl\",\"disp\",\"hp\",\"drat\",\"wt\",\"qsec\",\"vs\",\"am\",\"gear\",\"carb\"\n",
        "\"Mazda RX4\",21,6,160,110,3.9,2.62,16.46,0,1,4,4\n",
        "\"Mazda RX4 Wag\",21,6,160,110,3.9,2.875,17.02,0,1,4,4\n",
        "```"
      ]
    },
    {
      "cell_type": "code",
      "metadata": {
        "id": "XVm5Rc3ZnGvD",
        "outputId": "40551333-aced-41cb-b7ba-379ee39d8e6d",
        "colab": {
          "base_uri": "https://localhost:8080/",
          "height": 204
        }
      },
      "source": [
        "dfcars = dfcars.rename(columns={\"Unnamed: 0\": \"name\"})\n",
        "dfcars.head()"
      ],
      "execution_count": 3,
      "outputs": [
        {
          "output_type": "execute_result",
          "data": {
            "text/html": [
              "<div>\n",
              "<style scoped>\n",
              "    .dataframe tbody tr th:only-of-type {\n",
              "        vertical-align: middle;\n",
              "    }\n",
              "\n",
              "    .dataframe tbody tr th {\n",
              "        vertical-align: top;\n",
              "    }\n",
              "\n",
              "    .dataframe thead th {\n",
              "        text-align: right;\n",
              "    }\n",
              "</style>\n",
              "<table border=\"1\" class=\"dataframe\">\n",
              "  <thead>\n",
              "    <tr style=\"text-align: right;\">\n",
              "      <th></th>\n",
              "      <th>name</th>\n",
              "      <th>mpg</th>\n",
              "      <th>cyl</th>\n",
              "      <th>disp</th>\n",
              "      <th>hp</th>\n",
              "      <th>drat</th>\n",
              "      <th>wt</th>\n",
              "      <th>qsec</th>\n",
              "      <th>vs</th>\n",
              "      <th>am</th>\n",
              "      <th>gear</th>\n",
              "      <th>carb</th>\n",
              "    </tr>\n",
              "  </thead>\n",
              "  <tbody>\n",
              "    <tr>\n",
              "      <th>0</th>\n",
              "      <td>Mazda RX4</td>\n",
              "      <td>21.0</td>\n",
              "      <td>6</td>\n",
              "      <td>160.0</td>\n",
              "      <td>110</td>\n",
              "      <td>3.90</td>\n",
              "      <td>2.620</td>\n",
              "      <td>16.46</td>\n",
              "      <td>0</td>\n",
              "      <td>1</td>\n",
              "      <td>4</td>\n",
              "      <td>4</td>\n",
              "    </tr>\n",
              "    <tr>\n",
              "      <th>1</th>\n",
              "      <td>Mazda RX4 Wag</td>\n",
              "      <td>21.0</td>\n",
              "      <td>6</td>\n",
              "      <td>160.0</td>\n",
              "      <td>110</td>\n",
              "      <td>3.90</td>\n",
              "      <td>2.875</td>\n",
              "      <td>17.02</td>\n",
              "      <td>0</td>\n",
              "      <td>1</td>\n",
              "      <td>4</td>\n",
              "      <td>4</td>\n",
              "    </tr>\n",
              "    <tr>\n",
              "      <th>2</th>\n",
              "      <td>Datsun 710</td>\n",
              "      <td>22.8</td>\n",
              "      <td>4</td>\n",
              "      <td>108.0</td>\n",
              "      <td>93</td>\n",
              "      <td>3.85</td>\n",
              "      <td>2.320</td>\n",
              "      <td>18.61</td>\n",
              "      <td>1</td>\n",
              "      <td>1</td>\n",
              "      <td>4</td>\n",
              "      <td>1</td>\n",
              "    </tr>\n",
              "    <tr>\n",
              "      <th>3</th>\n",
              "      <td>Hornet 4 Drive</td>\n",
              "      <td>21.4</td>\n",
              "      <td>6</td>\n",
              "      <td>258.0</td>\n",
              "      <td>110</td>\n",
              "      <td>3.08</td>\n",
              "      <td>3.215</td>\n",
              "      <td>19.44</td>\n",
              "      <td>1</td>\n",
              "      <td>0</td>\n",
              "      <td>3</td>\n",
              "      <td>1</td>\n",
              "    </tr>\n",
              "    <tr>\n",
              "      <th>4</th>\n",
              "      <td>Hornet Sportabout</td>\n",
              "      <td>18.7</td>\n",
              "      <td>8</td>\n",
              "      <td>360.0</td>\n",
              "      <td>175</td>\n",
              "      <td>3.15</td>\n",
              "      <td>3.440</td>\n",
              "      <td>17.02</td>\n",
              "      <td>0</td>\n",
              "      <td>0</td>\n",
              "      <td>3</td>\n",
              "      <td>2</td>\n",
              "    </tr>\n",
              "  </tbody>\n",
              "</table>\n",
              "</div>"
            ],
            "text/plain": [
              "                name   mpg  cyl   disp   hp  ...   qsec  vs  am  gear  carb\n",
              "0          Mazda RX4  21.0    6  160.0  110  ...  16.46   0   1     4     4\n",
              "1      Mazda RX4 Wag  21.0    6  160.0  110  ...  17.02   0   1     4     4\n",
              "2         Datsun 710  22.8    4  108.0   93  ...  18.61   1   1     4     1\n",
              "3     Hornet 4 Drive  21.4    6  258.0  110  ...  19.44   1   0     3     1\n",
              "4  Hornet Sportabout  18.7    8  360.0  175  ...  17.02   0   0     3     2\n",
              "\n",
              "[5 rows x 12 columns]"
            ]
          },
          "metadata": {
            "tags": []
          },
          "execution_count": 3
        }
      ]
    },
    {
      "cell_type": "markdown",
      "metadata": {
        "id": "pZa6qydJnGvD"
      },
      "source": [
        "Columns in a dataframe (series) come with their own types. Some data may be categorical, that is, they come  with only few well defined values. An example is cylinders  (`cyl`). Cars may be 4, 6, or 8 cylindered. There is a ordered interpretation to this  (8 cylinders more powerful engine than 6 cylinders) but also a one-of-three-types interpretation to this. \n",
        "\n",
        "Sometimes categorical data does not have an ordered interpretation. An example is `am`: a boolean variable which indicates whether the car is an automatic or not.\n",
        "\n",
        "Other column types are integer, floating-point, and `object`. The latter is a catch-all for a string or anything Pandas cannot infer, for example, a column that contains data of mixed types. \n",
        "\n",
        "Write code to check the datatypes of the columns"
      ]
    },
    {
      "cell_type": "code",
      "metadata": {
        "id": "odI10CmunGvE",
        "outputId": "be0a553e-81ec-4df1-c247-434b2237457d",
        "colab": {
          "base_uri": "https://localhost:8080/"
        }
      },
      "source": [
        "# your code here\n",
        "dfcars.dtypes"
      ],
      "execution_count": 4,
      "outputs": [
        {
          "output_type": "execute_result",
          "data": {
            "text/plain": [
              "name     object\n",
              "mpg     float64\n",
              "cyl       int64\n",
              "disp    float64\n",
              "hp        int64\n",
              "drat    float64\n",
              "wt      float64\n",
              "qsec    float64\n",
              "vs        int64\n",
              "am        int64\n",
              "gear      int64\n",
              "carb      int64\n",
              "dtype: object"
            ]
          },
          "metadata": {
            "tags": []
          },
          "execution_count": 4
        }
      ]
    },
    {
      "cell_type": "markdown",
      "metadata": {
        "id": "McUJd131nGvE"
      },
      "source": [
        "Write code to get the unique values of car cylinders"
      ]
    },
    {
      "cell_type": "code",
      "metadata": {
        "id": "DdtXutdJnGvF",
        "outputId": "091adaef-a450-41ca-a5e4-60829846e0af",
        "colab": {
          "base_uri": "https://localhost:8080/"
        }
      },
      "source": [
        "# your code here\n",
        "dfcars.cyl.unique()"
      ],
      "execution_count": 5,
      "outputs": [
        {
          "output_type": "execute_result",
          "data": {
            "text/plain": [
              "array([6, 4, 8])"
            ]
          },
          "metadata": {
            "tags": []
          },
          "execution_count": 5
        }
      ]
    },
    {
      "cell_type": "markdown",
      "metadata": {
        "id": "L5LNKuHXnGvF"
      },
      "source": [
        "Write code to get the dataframe of the 6 and 8 cylinder cars"
      ]
    },
    {
      "cell_type": "code",
      "metadata": {
        "id": "I6Rfo0hhnGvF",
        "outputId": "54437c31-e698-4499-afb1-c697f1bd48b1",
        "colab": {
          "base_uri": "https://localhost:8080/",
          "height": 700
        }
      },
      "source": [
        "# your code here\n",
        "dfcars[dfcars.cyl.isin([6,8])]"
      ],
      "execution_count": 6,
      "outputs": [
        {
          "output_type": "execute_result",
          "data": {
            "text/html": [
              "<div>\n",
              "<style scoped>\n",
              "    .dataframe tbody tr th:only-of-type {\n",
              "        vertical-align: middle;\n",
              "    }\n",
              "\n",
              "    .dataframe tbody tr th {\n",
              "        vertical-align: top;\n",
              "    }\n",
              "\n",
              "    .dataframe thead th {\n",
              "        text-align: right;\n",
              "    }\n",
              "</style>\n",
              "<table border=\"1\" class=\"dataframe\">\n",
              "  <thead>\n",
              "    <tr style=\"text-align: right;\">\n",
              "      <th></th>\n",
              "      <th>name</th>\n",
              "      <th>mpg</th>\n",
              "      <th>cyl</th>\n",
              "      <th>disp</th>\n",
              "      <th>hp</th>\n",
              "      <th>drat</th>\n",
              "      <th>wt</th>\n",
              "      <th>qsec</th>\n",
              "      <th>vs</th>\n",
              "      <th>am</th>\n",
              "      <th>gear</th>\n",
              "      <th>carb</th>\n",
              "    </tr>\n",
              "  </thead>\n",
              "  <tbody>\n",
              "    <tr>\n",
              "      <th>0</th>\n",
              "      <td>Mazda RX4</td>\n",
              "      <td>21.0</td>\n",
              "      <td>6</td>\n",
              "      <td>160.0</td>\n",
              "      <td>110</td>\n",
              "      <td>3.90</td>\n",
              "      <td>2.620</td>\n",
              "      <td>16.46</td>\n",
              "      <td>0</td>\n",
              "      <td>1</td>\n",
              "      <td>4</td>\n",
              "      <td>4</td>\n",
              "    </tr>\n",
              "    <tr>\n",
              "      <th>1</th>\n",
              "      <td>Mazda RX4 Wag</td>\n",
              "      <td>21.0</td>\n",
              "      <td>6</td>\n",
              "      <td>160.0</td>\n",
              "      <td>110</td>\n",
              "      <td>3.90</td>\n",
              "      <td>2.875</td>\n",
              "      <td>17.02</td>\n",
              "      <td>0</td>\n",
              "      <td>1</td>\n",
              "      <td>4</td>\n",
              "      <td>4</td>\n",
              "    </tr>\n",
              "    <tr>\n",
              "      <th>3</th>\n",
              "      <td>Hornet 4 Drive</td>\n",
              "      <td>21.4</td>\n",
              "      <td>6</td>\n",
              "      <td>258.0</td>\n",
              "      <td>110</td>\n",
              "      <td>3.08</td>\n",
              "      <td>3.215</td>\n",
              "      <td>19.44</td>\n",
              "      <td>1</td>\n",
              "      <td>0</td>\n",
              "      <td>3</td>\n",
              "      <td>1</td>\n",
              "    </tr>\n",
              "    <tr>\n",
              "      <th>4</th>\n",
              "      <td>Hornet Sportabout</td>\n",
              "      <td>18.7</td>\n",
              "      <td>8</td>\n",
              "      <td>360.0</td>\n",
              "      <td>175</td>\n",
              "      <td>3.15</td>\n",
              "      <td>3.440</td>\n",
              "      <td>17.02</td>\n",
              "      <td>0</td>\n",
              "      <td>0</td>\n",
              "      <td>3</td>\n",
              "      <td>2</td>\n",
              "    </tr>\n",
              "    <tr>\n",
              "      <th>5</th>\n",
              "      <td>Valiant</td>\n",
              "      <td>18.1</td>\n",
              "      <td>6</td>\n",
              "      <td>225.0</td>\n",
              "      <td>105</td>\n",
              "      <td>2.76</td>\n",
              "      <td>3.460</td>\n",
              "      <td>20.22</td>\n",
              "      <td>1</td>\n",
              "      <td>0</td>\n",
              "      <td>3</td>\n",
              "      <td>1</td>\n",
              "    </tr>\n",
              "    <tr>\n",
              "      <th>6</th>\n",
              "      <td>Duster 360</td>\n",
              "      <td>14.3</td>\n",
              "      <td>8</td>\n",
              "      <td>360.0</td>\n",
              "      <td>245</td>\n",
              "      <td>3.21</td>\n",
              "      <td>3.570</td>\n",
              "      <td>15.84</td>\n",
              "      <td>0</td>\n",
              "      <td>0</td>\n",
              "      <td>3</td>\n",
              "      <td>4</td>\n",
              "    </tr>\n",
              "    <tr>\n",
              "      <th>9</th>\n",
              "      <td>Merc 280</td>\n",
              "      <td>19.2</td>\n",
              "      <td>6</td>\n",
              "      <td>167.6</td>\n",
              "      <td>123</td>\n",
              "      <td>3.92</td>\n",
              "      <td>3.440</td>\n",
              "      <td>18.30</td>\n",
              "      <td>1</td>\n",
              "      <td>0</td>\n",
              "      <td>4</td>\n",
              "      <td>4</td>\n",
              "    </tr>\n",
              "    <tr>\n",
              "      <th>10</th>\n",
              "      <td>Merc 280C</td>\n",
              "      <td>17.8</td>\n",
              "      <td>6</td>\n",
              "      <td>167.6</td>\n",
              "      <td>123</td>\n",
              "      <td>3.92</td>\n",
              "      <td>3.440</td>\n",
              "      <td>18.90</td>\n",
              "      <td>1</td>\n",
              "      <td>0</td>\n",
              "      <td>4</td>\n",
              "      <td>4</td>\n",
              "    </tr>\n",
              "    <tr>\n",
              "      <th>11</th>\n",
              "      <td>Merc 450SE</td>\n",
              "      <td>16.4</td>\n",
              "      <td>8</td>\n",
              "      <td>275.8</td>\n",
              "      <td>180</td>\n",
              "      <td>3.07</td>\n",
              "      <td>4.070</td>\n",
              "      <td>17.40</td>\n",
              "      <td>0</td>\n",
              "      <td>0</td>\n",
              "      <td>3</td>\n",
              "      <td>3</td>\n",
              "    </tr>\n",
              "    <tr>\n",
              "      <th>12</th>\n",
              "      <td>Merc 450SL</td>\n",
              "      <td>17.3</td>\n",
              "      <td>8</td>\n",
              "      <td>275.8</td>\n",
              "      <td>180</td>\n",
              "      <td>3.07</td>\n",
              "      <td>3.730</td>\n",
              "      <td>17.60</td>\n",
              "      <td>0</td>\n",
              "      <td>0</td>\n",
              "      <td>3</td>\n",
              "      <td>3</td>\n",
              "    </tr>\n",
              "    <tr>\n",
              "      <th>13</th>\n",
              "      <td>Merc 450SLC</td>\n",
              "      <td>15.2</td>\n",
              "      <td>8</td>\n",
              "      <td>275.8</td>\n",
              "      <td>180</td>\n",
              "      <td>3.07</td>\n",
              "      <td>3.780</td>\n",
              "      <td>18.00</td>\n",
              "      <td>0</td>\n",
              "      <td>0</td>\n",
              "      <td>3</td>\n",
              "      <td>3</td>\n",
              "    </tr>\n",
              "    <tr>\n",
              "      <th>14</th>\n",
              "      <td>Cadillac Fleetwood</td>\n",
              "      <td>10.4</td>\n",
              "      <td>8</td>\n",
              "      <td>472.0</td>\n",
              "      <td>205</td>\n",
              "      <td>2.93</td>\n",
              "      <td>5.250</td>\n",
              "      <td>17.98</td>\n",
              "      <td>0</td>\n",
              "      <td>0</td>\n",
              "      <td>3</td>\n",
              "      <td>4</td>\n",
              "    </tr>\n",
              "    <tr>\n",
              "      <th>15</th>\n",
              "      <td>Lincoln Continental</td>\n",
              "      <td>10.4</td>\n",
              "      <td>8</td>\n",
              "      <td>460.0</td>\n",
              "      <td>215</td>\n",
              "      <td>3.00</td>\n",
              "      <td>5.424</td>\n",
              "      <td>17.82</td>\n",
              "      <td>0</td>\n",
              "      <td>0</td>\n",
              "      <td>3</td>\n",
              "      <td>4</td>\n",
              "    </tr>\n",
              "    <tr>\n",
              "      <th>16</th>\n",
              "      <td>Chrysler Imperial</td>\n",
              "      <td>14.7</td>\n",
              "      <td>8</td>\n",
              "      <td>440.0</td>\n",
              "      <td>230</td>\n",
              "      <td>3.23</td>\n",
              "      <td>5.345</td>\n",
              "      <td>17.42</td>\n",
              "      <td>0</td>\n",
              "      <td>0</td>\n",
              "      <td>3</td>\n",
              "      <td>4</td>\n",
              "    </tr>\n",
              "    <tr>\n",
              "      <th>21</th>\n",
              "      <td>Dodge Challenger</td>\n",
              "      <td>15.5</td>\n",
              "      <td>8</td>\n",
              "      <td>318.0</td>\n",
              "      <td>150</td>\n",
              "      <td>2.76</td>\n",
              "      <td>3.520</td>\n",
              "      <td>16.87</td>\n",
              "      <td>0</td>\n",
              "      <td>0</td>\n",
              "      <td>3</td>\n",
              "      <td>2</td>\n",
              "    </tr>\n",
              "    <tr>\n",
              "      <th>22</th>\n",
              "      <td>AMC Javelin</td>\n",
              "      <td>15.2</td>\n",
              "      <td>8</td>\n",
              "      <td>304.0</td>\n",
              "      <td>150</td>\n",
              "      <td>3.15</td>\n",
              "      <td>3.435</td>\n",
              "      <td>17.30</td>\n",
              "      <td>0</td>\n",
              "      <td>0</td>\n",
              "      <td>3</td>\n",
              "      <td>2</td>\n",
              "    </tr>\n",
              "    <tr>\n",
              "      <th>23</th>\n",
              "      <td>Camaro Z28</td>\n",
              "      <td>13.3</td>\n",
              "      <td>8</td>\n",
              "      <td>350.0</td>\n",
              "      <td>245</td>\n",
              "      <td>3.73</td>\n",
              "      <td>3.840</td>\n",
              "      <td>15.41</td>\n",
              "      <td>0</td>\n",
              "      <td>0</td>\n",
              "      <td>3</td>\n",
              "      <td>4</td>\n",
              "    </tr>\n",
              "    <tr>\n",
              "      <th>24</th>\n",
              "      <td>Pontiac Firebird</td>\n",
              "      <td>19.2</td>\n",
              "      <td>8</td>\n",
              "      <td>400.0</td>\n",
              "      <td>175</td>\n",
              "      <td>3.08</td>\n",
              "      <td>3.845</td>\n",
              "      <td>17.05</td>\n",
              "      <td>0</td>\n",
              "      <td>0</td>\n",
              "      <td>3</td>\n",
              "      <td>2</td>\n",
              "    </tr>\n",
              "    <tr>\n",
              "      <th>28</th>\n",
              "      <td>Ford Pantera L</td>\n",
              "      <td>15.8</td>\n",
              "      <td>8</td>\n",
              "      <td>351.0</td>\n",
              "      <td>264</td>\n",
              "      <td>4.22</td>\n",
              "      <td>3.170</td>\n",
              "      <td>14.50</td>\n",
              "      <td>0</td>\n",
              "      <td>1</td>\n",
              "      <td>5</td>\n",
              "      <td>4</td>\n",
              "    </tr>\n",
              "    <tr>\n",
              "      <th>29</th>\n",
              "      <td>Ferrari Dino</td>\n",
              "      <td>19.7</td>\n",
              "      <td>6</td>\n",
              "      <td>145.0</td>\n",
              "      <td>175</td>\n",
              "      <td>3.62</td>\n",
              "      <td>2.770</td>\n",
              "      <td>15.50</td>\n",
              "      <td>0</td>\n",
              "      <td>1</td>\n",
              "      <td>5</td>\n",
              "      <td>6</td>\n",
              "    </tr>\n",
              "    <tr>\n",
              "      <th>30</th>\n",
              "      <td>Maserati Bora</td>\n",
              "      <td>15.0</td>\n",
              "      <td>8</td>\n",
              "      <td>301.0</td>\n",
              "      <td>335</td>\n",
              "      <td>3.54</td>\n",
              "      <td>3.570</td>\n",
              "      <td>14.60</td>\n",
              "      <td>0</td>\n",
              "      <td>1</td>\n",
              "      <td>5</td>\n",
              "      <td>8</td>\n",
              "    </tr>\n",
              "  </tbody>\n",
              "</table>\n",
              "</div>"
            ],
            "text/plain": [
              "                   name   mpg  cyl   disp   hp  ...   qsec  vs  am  gear  carb\n",
              "0             Mazda RX4  21.0    6  160.0  110  ...  16.46   0   1     4     4\n",
              "1         Mazda RX4 Wag  21.0    6  160.0  110  ...  17.02   0   1     4     4\n",
              "3        Hornet 4 Drive  21.4    6  258.0  110  ...  19.44   1   0     3     1\n",
              "4     Hornet Sportabout  18.7    8  360.0  175  ...  17.02   0   0     3     2\n",
              "5               Valiant  18.1    6  225.0  105  ...  20.22   1   0     3     1\n",
              "6            Duster 360  14.3    8  360.0  245  ...  15.84   0   0     3     4\n",
              "9              Merc 280  19.2    6  167.6  123  ...  18.30   1   0     4     4\n",
              "10            Merc 280C  17.8    6  167.6  123  ...  18.90   1   0     4     4\n",
              "11           Merc 450SE  16.4    8  275.8  180  ...  17.40   0   0     3     3\n",
              "12           Merc 450SL  17.3    8  275.8  180  ...  17.60   0   0     3     3\n",
              "13          Merc 450SLC  15.2    8  275.8  180  ...  18.00   0   0     3     3\n",
              "14   Cadillac Fleetwood  10.4    8  472.0  205  ...  17.98   0   0     3     4\n",
              "15  Lincoln Continental  10.4    8  460.0  215  ...  17.82   0   0     3     4\n",
              "16    Chrysler Imperial  14.7    8  440.0  230  ...  17.42   0   0     3     4\n",
              "21     Dodge Challenger  15.5    8  318.0  150  ...  16.87   0   0     3     2\n",
              "22          AMC Javelin  15.2    8  304.0  150  ...  17.30   0   0     3     2\n",
              "23           Camaro Z28  13.3    8  350.0  245  ...  15.41   0   0     3     4\n",
              "24     Pontiac Firebird  19.2    8  400.0  175  ...  17.05   0   0     3     2\n",
              "28       Ford Pantera L  15.8    8  351.0  264  ...  14.50   0   1     5     4\n",
              "29         Ferrari Dino  19.7    6  145.0  175  ...  15.50   0   1     5     6\n",
              "30        Maserati Bora  15.0    8  301.0  335  ...  14.60   0   1     5     8\n",
              "\n",
              "[21 rows x 12 columns]"
            ]
          },
          "metadata": {
            "tags": []
          },
          "execution_count": 6
        }
      ]
    },
    {
      "cell_type": "markdown",
      "metadata": {
        "id": "tmrTETnbnGvG"
      },
      "source": [
        "Write code to get the dataframe of cars with greter than 30mpg speeds"
      ]
    },
    {
      "cell_type": "code",
      "metadata": {
        "id": "izQoO0vfnGvG",
        "outputId": "1753db29-4a31-4faf-c3f7-156a1c6fc64d",
        "colab": {
          "base_uri": "https://localhost:8080/",
          "height": 173
        }
      },
      "source": [
        "dfcars[dfcars.mpg > 30]"
      ],
      "execution_count": 7,
      "outputs": [
        {
          "output_type": "execute_result",
          "data": {
            "text/html": [
              "<div>\n",
              "<style scoped>\n",
              "    .dataframe tbody tr th:only-of-type {\n",
              "        vertical-align: middle;\n",
              "    }\n",
              "\n",
              "    .dataframe tbody tr th {\n",
              "        vertical-align: top;\n",
              "    }\n",
              "\n",
              "    .dataframe thead th {\n",
              "        text-align: right;\n",
              "    }\n",
              "</style>\n",
              "<table border=\"1\" class=\"dataframe\">\n",
              "  <thead>\n",
              "    <tr style=\"text-align: right;\">\n",
              "      <th></th>\n",
              "      <th>name</th>\n",
              "      <th>mpg</th>\n",
              "      <th>cyl</th>\n",
              "      <th>disp</th>\n",
              "      <th>hp</th>\n",
              "      <th>drat</th>\n",
              "      <th>wt</th>\n",
              "      <th>qsec</th>\n",
              "      <th>vs</th>\n",
              "      <th>am</th>\n",
              "      <th>gear</th>\n",
              "      <th>carb</th>\n",
              "    </tr>\n",
              "  </thead>\n",
              "  <tbody>\n",
              "    <tr>\n",
              "      <th>17</th>\n",
              "      <td>Fiat 128</td>\n",
              "      <td>32.4</td>\n",
              "      <td>4</td>\n",
              "      <td>78.7</td>\n",
              "      <td>66</td>\n",
              "      <td>4.08</td>\n",
              "      <td>2.200</td>\n",
              "      <td>19.47</td>\n",
              "      <td>1</td>\n",
              "      <td>1</td>\n",
              "      <td>4</td>\n",
              "      <td>1</td>\n",
              "    </tr>\n",
              "    <tr>\n",
              "      <th>18</th>\n",
              "      <td>Honda Civic</td>\n",
              "      <td>30.4</td>\n",
              "      <td>4</td>\n",
              "      <td>75.7</td>\n",
              "      <td>52</td>\n",
              "      <td>4.93</td>\n",
              "      <td>1.615</td>\n",
              "      <td>18.52</td>\n",
              "      <td>1</td>\n",
              "      <td>1</td>\n",
              "      <td>4</td>\n",
              "      <td>2</td>\n",
              "    </tr>\n",
              "    <tr>\n",
              "      <th>19</th>\n",
              "      <td>Toyota Corolla</td>\n",
              "      <td>33.9</td>\n",
              "      <td>4</td>\n",
              "      <td>71.1</td>\n",
              "      <td>65</td>\n",
              "      <td>4.22</td>\n",
              "      <td>1.835</td>\n",
              "      <td>19.90</td>\n",
              "      <td>1</td>\n",
              "      <td>1</td>\n",
              "      <td>4</td>\n",
              "      <td>1</td>\n",
              "    </tr>\n",
              "    <tr>\n",
              "      <th>27</th>\n",
              "      <td>Lotus Europa</td>\n",
              "      <td>30.4</td>\n",
              "      <td>4</td>\n",
              "      <td>95.1</td>\n",
              "      <td>113</td>\n",
              "      <td>3.77</td>\n",
              "      <td>1.513</td>\n",
              "      <td>16.90</td>\n",
              "      <td>1</td>\n",
              "      <td>1</td>\n",
              "      <td>5</td>\n",
              "      <td>2</td>\n",
              "    </tr>\n",
              "  </tbody>\n",
              "</table>\n",
              "</div>"
            ],
            "text/plain": [
              "              name   mpg  cyl  disp   hp  ...   qsec  vs  am  gear  carb\n",
              "17        Fiat 128  32.4    4  78.7   66  ...  19.47   1   1     4     1\n",
              "18     Honda Civic  30.4    4  75.7   52  ...  18.52   1   1     4     2\n",
              "19  Toyota Corolla  33.9    4  71.1   65  ...  19.90   1   1     4     1\n",
              "27    Lotus Europa  30.4    4  95.1  113  ...  16.90   1   1     5     2\n",
              "\n",
              "[4 rows x 12 columns]"
            ]
          },
          "metadata": {
            "tags": []
          },
          "execution_count": 7
        }
      ]
    },
    {
      "cell_type": "markdown",
      "metadata": {
        "id": "TV437hyQnGvG"
      },
      "source": [
        "Save the high speed cars in a new csv file in data folder, ie in the file \"data/highspeed.csv\""
      ]
    },
    {
      "cell_type": "code",
      "metadata": {
        "id": "NegRtjIupK9w",
        "outputId": "94814858-cc4b-4a09-d49e-68ac32204708",
        "colab": {
          "base_uri": "https://localhost:8080/"
        }
      },
      "source": [
        "!wget \"https://raw.githubusercontent.com/AsutoshSatapathy/NumericalPython/main/data/highspeed.csv\""
      ],
      "execution_count": 9,
      "outputs": [
        {
          "output_type": "stream",
          "text": [
            "--2020-12-20 05:35:21--  https://raw.githubusercontent.com/AsutoshSatapathy/NumericalPython/main/data/highspeed.csv\n",
            "Resolving raw.githubusercontent.com (raw.githubusercontent.com)... 151.101.0.133, 151.101.64.133, 151.101.128.133, ...\n",
            "Connecting to raw.githubusercontent.com (raw.githubusercontent.com)|151.101.0.133|:443... connected.\n",
            "HTTP request sent, awaiting response... 200 OK\n",
            "Length: 269 [text/plain]\n",
            "Saving to: ‘highspeed.csv’\n",
            "\n",
            "highspeed.csv       100%[===================>]     269  --.-KB/s    in 0s      \n",
            "\n",
            "2020-12-20 05:35:21 (17.7 MB/s) - ‘highspeed.csv’ saved [269/269]\n",
            "\n"
          ],
          "name": "stdout"
        }
      ]
    },
    {
      "cell_type": "code",
      "metadata": {
        "id": "M6TEVz1nnGvG"
      },
      "source": [
        "# your code here\n",
        "dfcars[dfcars.mpg > 30].to_csv(\"highspeed.csv\", header=True, index=False)"
      ],
      "execution_count": 11,
      "outputs": []
    },
    {
      "cell_type": "markdown",
      "metadata": {
        "id": "AkeBkKJFnGvH"
      },
      "source": [
        "Create a 2-D numpy array from the mpg and wt columns of `dfcars`"
      ]
    },
    {
      "cell_type": "code",
      "metadata": {
        "id": "E08q0p1QvjfC",
        "outputId": "723408a2-0159-4051-8e02-3199e062040f",
        "colab": {
          "base_uri": "https://localhost:8080/"
        }
      },
      "source": [
        "val = dfcars['cyl'].values.T\n",
        "val.reshape(2,2,2,4)"
      ],
      "execution_count": 29,
      "outputs": [
        {
          "output_type": "execute_result",
          "data": {
            "text/plain": [
              "array([[[[6, 6, 4, 6],\n",
              "         [8, 6, 8, 4]],\n",
              "\n",
              "        [[4, 6, 6, 8],\n",
              "         [8, 8, 8, 8]]],\n",
              "\n",
              "\n",
              "       [[[8, 4, 4, 4],\n",
              "         [4, 8, 8, 8]],\n",
              "\n",
              "        [[8, 4, 4, 4],\n",
              "         [8, 6, 8, 4]]]])"
            ]
          },
          "metadata": {
            "tags": []
          },
          "execution_count": 29
        }
      ]
    },
    {
      "cell_type": "code",
      "metadata": {
        "id": "teOegFiWnGvH",
        "outputId": "c99c1b3a-9f35-41a9-a5f1-ac7eab5a2e04"
      },
      "source": [
        "# your code here\n",
        "dfcars[['mpg', 'wt']].values"
      ],
      "execution_count": null,
      "outputs": [
        {
          "output_type": "execute_result",
          "data": {
            "text/plain": [
              "array([[21.   ,  2.62 ],\n",
              "       [21.   ,  2.875],\n",
              "       [22.8  ,  2.32 ],\n",
              "       [21.4  ,  3.215],\n",
              "       [18.7  ,  3.44 ],\n",
              "       [18.1  ,  3.46 ],\n",
              "       [14.3  ,  3.57 ],\n",
              "       [24.4  ,  3.19 ],\n",
              "       [22.8  ,  3.15 ],\n",
              "       [19.2  ,  3.44 ],\n",
              "       [17.8  ,  3.44 ],\n",
              "       [16.4  ,  4.07 ],\n",
              "       [17.3  ,  3.73 ],\n",
              "       [15.2  ,  3.78 ],\n",
              "       [10.4  ,  5.25 ],\n",
              "       [10.4  ,  5.424],\n",
              "       [14.7  ,  5.345],\n",
              "       [32.4  ,  2.2  ],\n",
              "       [30.4  ,  1.615],\n",
              "       [33.9  ,  1.835],\n",
              "       [21.5  ,  2.465],\n",
              "       [15.5  ,  3.52 ],\n",
              "       [15.2  ,  3.435],\n",
              "       [13.3  ,  3.84 ],\n",
              "       [19.2  ,  3.845],\n",
              "       [27.3  ,  1.935],\n",
              "       [26.   ,  2.14 ],\n",
              "       [30.4  ,  1.513],\n",
              "       [15.8  ,  3.17 ],\n",
              "       [19.7  ,  2.77 ],\n",
              "       [15.   ,  3.57 ],\n",
              "       [21.4  ,  2.78 ]])"
            ]
          },
          "metadata": {
            "tags": []
          },
          "execution_count": 11
        }
      ]
    },
    {
      "cell_type": "markdown",
      "metadata": {
        "id": "upsilT7hnGvH"
      },
      "source": [
        "Reshape this array into a wide style, in other words, transpose it"
      ]
    },
    {
      "cell_type": "code",
      "metadata": {
        "id": "OKcaHhRpnGvH",
        "outputId": "a0618a06-ed7f-4d30-b580-daed0487bb52",
        "colab": {
          "base_uri": "https://localhost:8080/"
        }
      },
      "source": [
        "# your code here\n",
        "dfcars[['mpg', 'wt']].values.T"
      ],
      "execution_count": 12,
      "outputs": [
        {
          "output_type": "execute_result",
          "data": {
            "text/plain": [
              "array([[21.   , 21.   , 22.8  , 21.4  , 18.7  , 18.1  , 14.3  , 24.4  ,\n",
              "        22.8  , 19.2  , 17.8  , 16.4  , 17.3  , 15.2  , 10.4  , 10.4  ,\n",
              "        14.7  , 32.4  , 30.4  , 33.9  , 21.5  , 15.5  , 15.2  , 13.3  ,\n",
              "        19.2  , 27.3  , 26.   , 30.4  , 15.8  , 19.7  , 15.   , 21.4  ],\n",
              "       [ 2.62 ,  2.875,  2.32 ,  3.215,  3.44 ,  3.46 ,  3.57 ,  3.19 ,\n",
              "         3.15 ,  3.44 ,  3.44 ,  4.07 ,  3.73 ,  3.78 ,  5.25 ,  5.424,\n",
              "         5.345,  2.2  ,  1.615,  1.835,  2.465,  3.52 ,  3.435,  3.84 ,\n",
              "         3.845,  1.935,  2.14 ,  1.513,  3.17 ,  2.77 ,  3.57 ,  2.78 ]])"
            ]
          },
          "metadata": {
            "tags": []
          },
          "execution_count": 12
        }
      ]
    },
    {
      "cell_type": "code",
      "metadata": {
        "id": "k7OkJYEanGvI",
        "outputId": "7b8b3bf2-9ad3-4a25-b67e-6324536a931c",
        "colab": {
          "base_uri": "https://localhost:8080/"
        }
      },
      "source": [
        "# your code here\n",
        "myarr = dfcars[['mpg', 'wt']].values\n",
        "myarr.reshape(myarr.shape[1],myarr.shape[0])"
      ],
      "execution_count": 13,
      "outputs": [
        {
          "output_type": "execute_result",
          "data": {
            "text/plain": [
              "array([[21.   ,  2.62 , 21.   ,  2.875, 22.8  ,  2.32 , 21.4  ,  3.215,\n",
              "        18.7  ,  3.44 , 18.1  ,  3.46 , 14.3  ,  3.57 , 24.4  ,  3.19 ,\n",
              "        22.8  ,  3.15 , 19.2  ,  3.44 , 17.8  ,  3.44 , 16.4  ,  4.07 ,\n",
              "        17.3  ,  3.73 , 15.2  ,  3.78 , 10.4  ,  5.25 , 10.4  ,  5.424],\n",
              "       [14.7  ,  5.345, 32.4  ,  2.2  , 30.4  ,  1.615, 33.9  ,  1.835,\n",
              "        21.5  ,  2.465, 15.5  ,  3.52 , 15.2  ,  3.435, 13.3  ,  3.84 ,\n",
              "        19.2  ,  3.845, 27.3  ,  1.935, 26.   ,  2.14 , 30.4  ,  1.513,\n",
              "        15.8  ,  3.17 , 19.7  ,  2.77 , 15.   ,  3.57 , 21.4  ,  2.78 ]])"
            ]
          },
          "metadata": {
            "tags": []
          },
          "execution_count": 13
        }
      ]
    },
    {
      "cell_type": "code",
      "metadata": {
        "id": "WUNY6QjDttIr",
        "outputId": "b17d7d15-b5bf-4a28-ab75-188829e14416",
        "colab": {
          "base_uri": "https://localhost:8080/"
        }
      },
      "source": [
        "import numpy as np\n",
        "myarr1 = dfcars[['mpg', 'wt']].values\n",
        "print(myarr1.T)\n",
        "myarr2 = np.array(dfcars[['mpg', 'wt']].values)\n",
        "myarr.T"
      ],
      "execution_count": 18,
      "outputs": [
        {
          "output_type": "stream",
          "text": [
            "[[21.    21.    22.8   21.4   18.7   18.1   14.3   24.4   22.8   19.2\n",
            "  17.8   16.4   17.3   15.2   10.4   10.4   14.7   32.4   30.4   33.9\n",
            "  21.5   15.5   15.2   13.3   19.2   27.3   26.    30.4   15.8   19.7\n",
            "  15.    21.4  ]\n",
            " [ 2.62   2.875  2.32   3.215  3.44   3.46   3.57   3.19   3.15   3.44\n",
            "   3.44   4.07   3.73   3.78   5.25   5.424  5.345  2.2    1.615  1.835\n",
            "   2.465  3.52   3.435  3.84   3.845  1.935  2.14   1.513  3.17   2.77\n",
            "   3.57   2.78 ]]\n"
          ],
          "name": "stdout"
        },
        {
          "output_type": "execute_result",
          "data": {
            "text/plain": [
              "array([[21.   , 21.   , 22.8  , 21.4  , 18.7  , 18.1  , 14.3  , 24.4  ,\n",
              "        22.8  , 19.2  , 17.8  , 16.4  , 17.3  , 15.2  , 10.4  , 10.4  ,\n",
              "        14.7  , 32.4  , 30.4  , 33.9  , 21.5  , 15.5  , 15.2  , 13.3  ,\n",
              "        19.2  , 27.3  , 26.   , 30.4  , 15.8  , 19.7  , 15.   , 21.4  ],\n",
              "       [ 2.62 ,  2.875,  2.32 ,  3.215,  3.44 ,  3.46 ,  3.57 ,  3.19 ,\n",
              "         3.15 ,  3.44 ,  3.44 ,  4.07 ,  3.73 ,  3.78 ,  5.25 ,  5.424,\n",
              "         5.345,  2.2  ,  1.615,  1.835,  2.465,  3.52 ,  3.435,  3.84 ,\n",
              "         3.845,  1.935,  2.14 ,  1.513,  3.17 ,  2.77 ,  3.57 ,  2.78 ]])"
            ]
          },
          "metadata": {
            "tags": []
          },
          "execution_count": 18
        }
      ]
    }
  ]
}